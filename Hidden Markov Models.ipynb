{
 "cells": [
  {
   "cell_type": "markdown",
   "metadata": {},
   "source": [
    "# Hidden Markov Models (HMMs)"
   ]
  },
  {
   "cell_type": "markdown",
   "metadata": {},
   "source": [
    "HMMs can be effective in solving problems in reinforcement learning and temporal pattern recognition. We will implement such models to predict the weekly price of corn from the dataset [_Weekly Corn Prices_](https://www.kaggle.com/nickwong64/corn2015-2017).  \n",
    "\n",
    "The file composed of simply 2 columns. One is the date (weekend) and the other is corn close price. The period is from 2015-01-04 to 2017-10-01. The original data is downloaded from Quantopian corn futures price."
   ]
  },
  {
   "cell_type": "code",
   "execution_count": 1,
   "metadata": {},
   "outputs": [],
   "source": [
    "import numpy as np\n",
    "import pandas as pd\n",
    "from collections import namedtuple\n",
    "from itertools import permutations, chain, product\n",
    "from sklearn.cluster import KMeans\n",
    "from inspect import Signature, Parameter"
   ]
  },
  {
   "cell_type": "markdown",
   "metadata": {},
   "source": [
    "# Data "
   ]
  },
  {
   "cell_type": "code",
   "execution_count": 2,
   "metadata": {},
   "outputs": [],
   "source": [
    "CORN_2013_2017 = 'corn2013-2017.txt'\n",
    "CORN_2015_2017 = 'corn2015-2017.txt'\n",
    "OHL = 'corn_OHLC2013-2017.txt'"
   ]
  },
  {
   "cell_type": "code",
   "execution_count": 3,
   "metadata": {},
   "outputs": [],
   "source": [
    "corn13_17 = pd.read_csv(CORN_2013_2017, names = (\"week\",\"price\") )\n",
    "corn15_17 = pd.read_csv(CORN_2015_2017, names = (\"week\",\"price\"))\n",
    "OHL_df = pd.read_csv(OHL, names = (\"week\",\"open\",\"high\",\"low\",\"close\"))"
   ]
  },
  {
   "cell_type": "markdown",
   "metadata": {},
   "source": [
    "We will start using the data set `corn13_17`"
   ]
  },
  {
   "cell_type": "code",
   "execution_count": 4,
   "metadata": {},
   "outputs": [
    {
     "data": {
      "text/html": [
       "<div>\n",
       "<style scoped>\n",
       "    .dataframe tbody tr th:only-of-type {\n",
       "        vertical-align: middle;\n",
       "    }\n",
       "\n",
       "    .dataframe tbody tr th {\n",
       "        vertical-align: top;\n",
       "    }\n",
       "\n",
       "    .dataframe thead th {\n",
       "        text-align: right;\n",
       "    }\n",
       "</style>\n",
       "<table border=\"1\" class=\"dataframe\">\n",
       "  <thead>\n",
       "    <tr style=\"text-align: right;\">\n",
       "      <th></th>\n",
       "      <th>week</th>\n",
       "      <th>price</th>\n",
       "    </tr>\n",
       "  </thead>\n",
       "  <tbody>\n",
       "    <tr>\n",
       "      <th>0</th>\n",
       "      <td>2013-01-06</td>\n",
       "      <td>7.794975</td>\n",
       "    </tr>\n",
       "    <tr>\n",
       "      <th>1</th>\n",
       "      <td>2013-01-13</td>\n",
       "      <td>7.863400</td>\n",
       "    </tr>\n",
       "    <tr>\n",
       "      <th>2</th>\n",
       "      <td>2013-01-20</td>\n",
       "      <td>8.234920</td>\n",
       "    </tr>\n",
       "    <tr>\n",
       "      <th>3</th>\n",
       "      <td>2013-01-27</td>\n",
       "      <td>8.186260</td>\n",
       "    </tr>\n",
       "    <tr>\n",
       "      <th>4</th>\n",
       "      <td>2013-02-03</td>\n",
       "      <td>8.317480</td>\n",
       "    </tr>\n",
       "    <tr>\n",
       "      <th>...</th>\n",
       "      <td>...</td>\n",
       "      <td>...</td>\n",
       "    </tr>\n",
       "    <tr>\n",
       "      <th>243</th>\n",
       "      <td>2017-09-03</td>\n",
       "      <td>3.512500</td>\n",
       "    </tr>\n",
       "    <tr>\n",
       "      <th>244</th>\n",
       "      <td>2017-09-10</td>\n",
       "      <td>3.569000</td>\n",
       "    </tr>\n",
       "    <tr>\n",
       "      <th>245</th>\n",
       "      <td>2017-09-17</td>\n",
       "      <td>3.542500</td>\n",
       "    </tr>\n",
       "    <tr>\n",
       "      <th>246</th>\n",
       "      <td>2017-09-24</td>\n",
       "      <td>3.507000</td>\n",
       "    </tr>\n",
       "    <tr>\n",
       "      <th>247</th>\n",
       "      <td>2017-10-01</td>\n",
       "      <td>3.530000</td>\n",
       "    </tr>\n",
       "  </tbody>\n",
       "</table>\n",
       "<p>248 rows × 2 columns</p>\n",
       "</div>"
      ],
      "text/plain": [
       "           week     price\n",
       "0    2013-01-06  7.794975\n",
       "1    2013-01-13  7.863400\n",
       "2    2013-01-20  8.234920\n",
       "3    2013-01-27  8.186260\n",
       "4    2013-02-03  8.317480\n",
       "..          ...       ...\n",
       "243  2017-09-03  3.512500\n",
       "244  2017-09-10  3.569000\n",
       "245  2017-09-17  3.542500\n",
       "246  2017-09-24  3.507000\n",
       "247  2017-10-01  3.530000\n",
       "\n",
       "[248 rows x 2 columns]"
      ]
     },
     "execution_count": 4,
     "metadata": {},
     "output_type": "execute_result"
    }
   ],
   "source": [
    "corn13_17"
   ]
  },
  {
   "cell_type": "markdown",
   "metadata": {},
   "source": [
    "First we take a look at the data description in orther to find the present quantity of null values"
   ]
  },
  {
   "cell_type": "code",
   "execution_count": 5,
   "metadata": {},
   "outputs": [
    {
     "name": "stdout",
     "output_type": "stream",
     "text": [
      "<class 'pandas.core.frame.DataFrame'>\n",
      "RangeIndex: 248 entries, 0 to 247\n",
      "Data columns (total 2 columns):\n",
      " #   Column  Non-Null Count  Dtype  \n",
      "---  ------  --------------  -----  \n",
      " 0   week    248 non-null    object \n",
      " 1   price   248 non-null    float64\n",
      "dtypes: float64(1), object(1)\n",
      "memory usage: 4.0+ KB\n"
     ]
    }
   ],
   "source": [
    "corn13_17.info()"
   ]
  },
  {
   "cell_type": "markdown",
   "metadata": {},
   "source": [
    "by the above we have a complete dataset. "
   ]
  },
  {
   "cell_type": "markdown",
   "metadata": {},
   "source": [
    "# Preprocess: Discretization\n",
    "\n",
    "In particular, for the corn price predictor it is useful to model the corn prices as discrete observations rather than continous observations generated by a state dependent distribution (often a Gaussian).\n",
    "\n",
    "## Generate Clusters\n",
    "\n",
    "To simplify the problemwe will use clustering that works as a data quantization and this can simplifies the learning of an HMM. As each cluster label is going to be used as an observation. \n",
    "\n",
    "The emission probability matrix can be encoded as a discrete vector of probabilities."
   ]
  },
  {
   "cell_type": "code",
   "execution_count": 6,
   "metadata": {},
   "outputs": [],
   "source": [
    "def generate_cluster_assignments(ser, clusters):\n",
    "    cluster = KMeans(n_clusters = clusters, random_state=24)\n",
    "    df = pd.DataFrame(ser)\n",
    "    cluster.fit(df)\n",
    "    \n",
    "    return cluster.predict(df)"
   ]
  },
  {
   "cell_type": "markdown",
   "metadata": {},
   "source": [
    "# Estimating a Hidden Markov Model"
   ]
  },
  {
   "cell_type": "code",
   "execution_count": 7,
   "metadata": {},
   "outputs": [
    {
     "data": {
      "text/plain": [
       "array([1, 1, 1, 1, 1, 1, 1, 1, 1, 1, 1, 1, 1, 1, 1, 1, 1, 1, 1, 1, 1, 1,\n",
       "       1, 1, 1, 1, 2, 1, 2, 2, 2, 2, 2, 2, 2, 2, 2, 2, 2, 2, 2, 2, 2, 2,\n",
       "       2, 2, 2, 2, 2, 2, 2, 2, 2, 2, 2, 2, 2, 2, 2, 2, 2, 2, 2, 2, 2, 2,\n",
       "       2, 2, 2, 2, 2, 2, 2, 2, 2, 2, 2, 2, 0, 0, 0, 0, 0, 0, 0, 0, 0, 0,\n",
       "       4, 4, 4, 4, 4, 4, 0, 0, 0, 0, 0, 0, 0, 0, 0, 0, 0, 0, 0, 0, 0, 0,\n",
       "       0, 0, 0, 0, 0, 0, 0, 0, 0, 0, 4, 4, 4, 4, 4, 4, 4, 4, 4, 4, 0, 0,\n",
       "       0, 0, 4, 4, 4, 4, 4, 4, 4, 4, 4, 4, 4, 4, 4, 4, 4, 4, 4, 4, 4, 4,\n",
       "       4, 4, 4, 4, 4, 4, 4, 4, 4, 4, 4, 4, 4, 4, 4, 4, 4, 4, 4, 4, 4, 4,\n",
       "       4, 4, 0, 0, 0, 4, 4, 3, 3, 3, 3, 3, 3, 3, 3, 3, 3, 3, 3, 3, 3, 3,\n",
       "       3, 3, 3, 3, 3, 3, 3, 3, 3, 3, 3, 3, 3, 3, 3, 3, 3, 3, 3, 3, 3, 3,\n",
       "       3, 3, 3, 3, 3, 3, 3, 3, 3, 3, 3, 3, 3, 3, 3, 3, 3, 3, 3, 3, 3, 3,\n",
       "       3, 3, 3, 3, 3, 3], dtype=int32)"
      ]
     },
     "execution_count": 7,
     "metadata": {},
     "output_type": "execute_result"
    }
   ],
   "source": [
    "corn13_17_seq = generate_cluster_assignments(corn13_17[['price']], 5)\n",
    "corn13_17_seq"
   ]
  },
  {
   "cell_type": "markdown",
   "metadata": {},
   "source": [
    "## Number of Unique States"
   ]
  },
  {
   "cell_type": "code",
   "execution_count": 8,
   "metadata": {},
   "outputs": [],
   "source": [
    "# Almost all functions require this constant as an argument\n",
    "STATE_LIST = ['S1', 'S2']\n",
    "\n",
    "# Initialze state transition probabilities (2 states)\n",
    "STATE_TRANS_PROBS = [0.4, 0.6, 0.35, 0.55]"
   ]
  },
  {
   "cell_type": "markdown",
   "metadata": {},
   "source": [
    "The following functions will be useful below"
   ]
  },
  {
   "cell_type": "code",
   "execution_count": 9,
   "metadata": {},
   "outputs": [],
   "source": [
    "# given a list with unique items, this function will return a new list with all permutations\n",
    "def make_state_permutations(list_of_unique_states):\n",
    "    l1 = [''.join(tup) for tup in permutations(list_of_unique_states, 2)]\n",
    "    l2 = [state+state for state in list_of_unique_states]\n",
    "    return sorted(l1 + l2)\n",
    "\n",
    "# helper function in EM function\n",
    "def _grab_highest_prob_and_state(state_permutations_lst, prob_arr):\n",
    "    return (prob_arr[np.argmax(prob_arr)], state_permutations_lst[np.argmax(prob_arr)])"
   ]
  },
  {
   "cell_type": "markdown",
   "metadata": {},
   "source": [
    "and the following two transform a dictionary content into anew format"
   ]
  },
  {
   "cell_type": "code",
   "execution_count": 10,
   "metadata": {},
   "outputs": [],
   "source": [
    "def dict_to_tuples(list_of_unique_states, d):\n",
    "    \n",
    "    # Defensive programming to ensure output will be correct\n",
    "    list_of_unique_states = sorted(list_of_unique_states)\n",
    "    assert make_state_permutations(list_of_unique_states) == list(d.keys()), \\\n",
    "            \"Keys of dictionary must match output of `make_state_permutations(list_of_unique_states)`\"\n",
    "    \n",
    "    lengths = [len(st) for st in list_of_unique_states]\n",
    "    final_dict = {}\n",
    "    for idx, st in enumerate(list_of_unique_states):\n",
    "        tup = []\n",
    "        for trans_p in d.keys():\n",
    "            if trans_p[:lengths[idx]] == st:\n",
    "                tup.append(d[trans_p])\n",
    "            else:\n",
    "                continue\n",
    "        final_dict[st] = tuple(tup)\n",
    "        \n",
    "    return final_dict\n",
    "    \n",
    "def obs_to_tuples(list_of_unique_states, d, sequence):\n",
    "    \n",
    "    # Defensive programming to ensure output will be correct\n",
    "    list_of_unique_states = sorted(list_of_unique_states)\n",
    "    num_unique_obs = len(np.unique(sequence))\n",
    "    \n",
    "    lengths = [len(st) for st in list_of_unique_states]\n",
    "    final_dict = {}\n",
    "    for idx, st in enumerate(list_of_unique_states):\n",
    "        tup = []\n",
    "        for e_trans in d.keys():\n",
    "            if e_trans[:lengths[idx]] == st:\n",
    "                tup.append(d[e_trans])\n",
    "            else:\n",
    "                continue\n",
    "        final_dict[st] = tuple(tup)\n",
    "        \n",
    "    return final_dict"
   ]
  },
  {
   "cell_type": "markdown",
   "metadata": {},
   "source": [
    "# Define Transition Functions\n",
    "\n",
    "Create our initial HMM parameters ($\\pi$, $A$, $B$) in the form of a dictionary.\n",
    "\n",
    "Dictionaries are more efficient than arrays, we will see it in the following. "
   ]
  },
  {
   "cell_type": "code",
   "execution_count": 12,
   "metadata": {},
   "outputs": [
    {
     "name": "stdout",
     "output_type": "stream",
     "text": [
      "Seconds to index an array 10000000 times: 1.757321322002099\n",
      "\n",
      " ############################################################ \n",
      "\n",
      "Seconds to retrieve value 10000000 times: 0.2506234320026124\n"
     ]
    }
   ],
   "source": [
    "import timeit\n",
    "\n",
    "all_setup = \"\"\"\n",
    "\n",
    "import numpy as np\n",
    "\n",
    "# These hold the same information\n",
    "arr = np.array([[0.4, 0.6], [0.35, 0.55]])\n",
    "d = {'S1S1': 0.4, 'S1S2': 0.6, 'S2S1': 0.35, 'S2S2': 0.55}\n",
    "\n",
    "\"\"\"\n",
    "i = 10_000_000\n",
    "index_an_array = 'arr[0,0]'\n",
    "retrieve_value = \"d['S1S1']\"\n",
    "\n",
    "print('Seconds to index an array {} times: {}'.format(\n",
    "    i, timeit.timeit(setup=all_setup, stmt=index_an_array, number=i)))\n",
    "\n",
    "print('\\n','#' * 60, '\\n')\n",
    "print('Seconds to retrieve value {} times: {}'.format(i, timeit.timeit(setup=all_setup, stmt=retrieve_value, number=i)))"
   ]
  },
  {
   "cell_type": "markdown",
   "metadata": {},
   "source": [
    "The following functions produce initial probabilities for ($\\pi$, $A$, $B$)"
   ]
  },
  {
   "cell_type": "code",
   "execution_count": 13,
   "metadata": {},
   "outputs": [],
   "source": [
    "def generate_state_trans_dict(list_of_unique_states, **kwargs):\n",
    "    \n",
    "    # number of states\n",
    "    N = len(list_of_unique_states)\n",
    "    \n",
    "    # this runs if specific transitions are provided\n",
    "    if kwargs:\n",
    "        state_perms = [''.join(tup) for tup in permutations(list(kwargs.keys()), 2)]\n",
    "        all_permutations = [state+state for state in list_of_unique_states] + state_perms\n",
    "        pbs = chain.from_iterable(kwargs.values())\n",
    "        state_trans_dict = {perm:p for perm, p in zip(sorted(all_permutations), pbs)}\n",
    "        return state_trans_dict\n",
    "    \n",
    "    state_perms = [''.join(tup) for tup in permutations(list_of_unique_states, 2)]\n",
    "    all_permutations = [state+state for state in list_of_unique_states] + state_perms\n",
    "    state_trans_dict = {perm: (1/N) for perm in all_permutations}\n",
    "    \n",
    "    return state_trans_dict"
   ]
  },
  {
   "cell_type": "code",
   "execution_count": 21,
   "metadata": {},
   "outputs": [],
   "source": [
    "def generate_emission_prob_dist(list_of_unique_states, sequence, **kwargs):\n",
    "    \n",
    "    # number of unique obs\n",
    "    B = list(np.unique(sequence).astype(str))\n",
    "    \n",
    "    # this runs if specific transitions are provided\n",
    "    if kwargs:\n",
    "        \n",
    "        for t in kwargs.values():\n",
    "            \n",
    "            assert len(t) == len(B)\n",
    "            assert round(np.sum(t)) == 1.0\n",
    "            \n",
    "        for k in kwargs.keys():\n",
    "            \n",
    "            assert k in list_of_unique_states\n",
    "            \n",
    "        diff = list(set(list_of_unique_states).difference(kwargs.keys()))\n",
    "        \n",
    "        pbs = chain.from_iterable(kwargs.values())\n",
    "        obs_perms = [state + '_' + str(obs) for state in kwargs.keys() for obs in B]\n",
    "        \n",
    "        obs_trans_dict = {perm:p for perm, p in zip(sorted(obs_perms), pbs)}\n",
    "        \n",
    "        if diff:\n",
    "            obs_perms_diff = [state + '_' + obs for state in diff for obs in B]\n",
    "            obs_trans_dict.update({perm: (1/len(B)) for perm in obs_perms_diff})\n",
    "            \n",
    "        return obs_trans_dict\n",
    "    \n",
    "    obs_perms = [state + '_' + obs for state in list_of_unique_states for obs in B]\n",
    "    obs_trans_dict = {perm: (1/len(B)) for perm in obs_perms}\n",
    "    \n",
    "    return obs_trans_dict"
   ]
  },
  {
   "cell_type": "code",
   "execution_count": 22,
   "metadata": {},
   "outputs": [],
   "source": [
    "def generate_init_prob_dist(list_of_unique_states, **kwargs):\n",
    "    \n",
    "    # number of states\n",
    "    N = len(list_of_unique_states)\n",
    "    \n",
    "    # this runs if specific transitions are provided\n",
    "    if kwargs:\n",
    "        for t in kwargs.values():\n",
    "            assert isinstance(t, float)\n",
    "            assert t > 0\n",
    "            \n",
    "        assert np.sum(list(kwargs.values())) == 1.0\n",
    "        assert len(kwargs) == len(list_of_unique_states)\n",
    "        \n",
    "        # build the prob dictionary\n",
    "        init_prob_dict = {item[0]: item[1] for item in kwargs.items()}\n",
    "        return init_prob_dict\n",
    "    \n",
    "    init_prob_dist = {state: (1/N) for state in list_of_unique_states}\n",
    "    return init_prob_dist"
   ]
  },
  {
   "cell_type": "markdown",
   "metadata": {},
   "source": [
    "# Create Transition Priors"
   ]
  },
  {
   "cell_type": "code",
   "execution_count": 23,
   "metadata": {},
   "outputs": [
    {
     "data": {
      "text/plain": [
       "{'S1S1': 0.4, 'S1S2': 0.6, 'S2S1': 0.35, 'S2S2': 0.55}"
      ]
     },
     "execution_count": 23,
     "metadata": {},
     "output_type": "execute_result"
    }
   ],
   "source": [
    "# Make permutations of state transition (this len should match len(STATE_TRANS_PROBS))\n",
    "state_transitions_list = make_state_permutations(STATE_LIST)\n",
    "\n",
    "# Create transition matrix in form of dictionary\n",
    "state_transition_probs = {\n",
    "    trans: prob for trans, prob in zip(state_transitions_list, STATE_TRANS_PROBS)\n",
    "}\n",
    "\n",
    "state_transition_probs"
   ]
  },
  {
   "cell_type": "markdown",
   "metadata": {},
   "source": [
    "The dictionary shown above is the state transition \"matrix\" formated as a dictionary. "
   ]
  },
  {
   "cell_type": "code",
   "execution_count": 24,
   "metadata": {},
   "outputs": [
    {
     "data": {
      "text/plain": [
       "{'S1': (0.4, 0.6), 'S2': (0.35, 0.55)}"
      ]
     },
     "execution_count": 24,
     "metadata": {},
     "output_type": "execute_result"
    }
   ],
   "source": [
    "# Transform dictionary to be in tuple format\n",
    "A_prior = dict_to_tuples(STATE_LIST, state_transition_probs)\n",
    "A_prior"
   ]
  },
  {
   "cell_type": "markdown",
   "metadata": {},
   "source": [
    "#### NOTE ON FORMATTING\n",
    "\n",
    "Some functions in this assignment require the transition probabilities be in a specific format. We will switch between two formats that hold the same information:\n",
    "<br>\n",
    "\n",
    "With 2 states:\n",
    "<br>\n",
    "\n",
    "**Format 1**: `{'S1S1': 0.4, 'S1S2': 0.6, 'S2S1': 0.35, 'S2S2': 0.55}`\n",
    "\n",
    "The above dictionary is the state transition matrix in dictionary form, where every key is a transition from one state to another. For example, the key-value pair, `'S1S2': 0.6`, says the probability of the state moving from `S1` to `S2` from observation `i` to observation `j` is `0.6`.\n",
    "<br>\n",
    "<br>\n",
    "**Format 2**: `{'S1': (0.4, 0.6), 'S2': (0.35, 0.55)}`    \n",
    "\n",
    "The second format contains the same information as the first, but encodes the probabilities in tuples. With only two states and assuming `S1` is the first state, `'S1': (0.4, 0.6)` is interpreted as the probability of staying in `S1` is 0.4 and the probability of moving from `S1` to `S2` is 0.6. \n",
    "\n",
    "Below we will switch between both formats"
   ]
  },
  {
   "cell_type": "markdown",
   "metadata": {},
   "source": [
    "# Create Emission Probability Priors"
   ]
  },
  {
   "cell_type": "code",
   "execution_count": 25,
   "metadata": {},
   "outputs": [],
   "source": [
    "# Manually initialize emission probabilities - in format 1\n",
    "B_format1 = {\n",
    "    'S1_0': 0.1,\n",
    "    'S1_1': 0.3,\n",
    "    'S1_2': 0.4,\n",
    "    'S1_3': 0.15,\n",
    "    'S1_4': 0.05,\n",
    "    'S2_0': 0.15,\n",
    "    'S2_1': 0.2,\n",
    "    'S2_2': 0.3,\n",
    "    'S2_3': 0.05,\n",
    "    'S2_4': 0.3\n",
    "}"
   ]
  },
  {
   "cell_type": "markdown",
   "metadata": {},
   "source": [
    "Convert emission matrix to format 2"
   ]
  },
  {
   "cell_type": "code",
   "execution_count": 26,
   "metadata": {},
   "outputs": [
    {
     "data": {
      "text/plain": [
       "{'S1': (0.1, 0.3, 0.4, 0.15, 0.05), 'S2': (0.15, 0.2, 0.3, 0.05, 0.3)}"
      ]
     },
     "execution_count": 26,
     "metadata": {},
     "output_type": "execute_result"
    }
   ],
   "source": [
    "B_format2 = obs_to_tuples(STATE_LIST, B_format1, corn13_17_seq)\n",
    "B_format2"
   ]
  },
  {
   "cell_type": "markdown",
   "metadata": {},
   "source": [
    "Convert B back to format 1"
   ]
  },
  {
   "cell_type": "code",
   "execution_count": 27,
   "metadata": {},
   "outputs": [
    {
     "data": {
      "text/plain": [
       "{'S1_0': 0.1,\n",
       " 'S1_1': 0.3,\n",
       " 'S1_2': 0.4,\n",
       " 'S1_3': 0.15,\n",
       " 'S1_4': 0.05,\n",
       " 'S2_0': 0.15,\n",
       " 'S2_1': 0.2,\n",
       " 'S2_2': 0.3,\n",
       " 'S2_3': 0.05,\n",
       " 'S2_4': 0.3}"
      ]
     },
     "execution_count": 27,
     "metadata": {},
     "output_type": "execute_result"
    }
   ],
   "source": [
    "generate_emission_prob_dist(STATE_LIST, corn13_17_seq, **B_format2)"
   ]
  },
  {
   "cell_type": "markdown",
   "metadata": {},
   "source": [
    "We will keep the emission probabilities in the `\"key\": tuple` format so that it can be used easily as a `**kwargs` argument later."
   ]
  },
  {
   "cell_type": "code",
   "execution_count": 33,
   "metadata": {},
   "outputs": [],
   "source": [
    "B_prior = obs_to_tuples(STATE_LIST, B_format1, corn13_17_seq)"
   ]
  },
  {
   "cell_type": "code",
   "execution_count": 36,
   "metadata": {},
   "outputs": [
    {
     "data": {
      "text/plain": [
       "{'S1': 0.4, 'S2': 0.6}"
      ]
     },
     "execution_count": 36,
     "metadata": {},
     "output_type": "execute_result"
    }
   ],
   "source": [
    "# User specified initial probabilities\n",
    "pi__init = {'S1': 0.4 , 'S2': 0.6}\n",
    "\n",
    "# generate the dictionary holding initial state probabilities\n",
    "pi = generate_init_prob_dist(STATE_LIST, **pi__init)\n",
    "pi"
   ]
  },
  {
   "cell_type": "markdown",
   "metadata": {},
   "source": [
    "Finally, we need to create a data structure that will hold all of our probability calculations until we are finished computing\n",
    "\n",
    "For this task, we will take advantage of a powerful data structure from the `collections` module `namedtuple`.\n",
    "\n",
    "## NAMED TUPLES\n",
    "\n",
    "Take a few minutes to review the [documentation](https://docs.python.org/3.6/library/collections.html#collections.namedtuple) on `namedtuples`. Then answer the following question.\n",
    "\n",
    "Alternatively, for a short and helpful introduction, review [this tutorial](https://dbader.org/blog/writing-clean-python-with-namedtuples).\n",
    "\n",
    "---\n",
    "\n",
    "# Putting it all together\n",
    "\n",
    "We now have all the pieces to use the EM algorithm. \n",
    "\n",
    "To do this requires the calculation of forward backward algorithm. We will use `namedtuple` from the `collections` module to do this.\n",
    "\n",
    "The function below will generate this data structure."
   ]
  },
  {
   "cell_type": "code",
   "execution_count": 29,
   "metadata": {},
   "outputs": [],
   "source": [
    "def generate_obs_data_structure(sequence):\n",
    "    \n",
    "    #  sequence: 1D numpy array of observations\n",
    "    ObservationData = namedtuple(\n",
    "        'ObservationData',\n",
    "        ['prob_lst', 'highest_prob', 'highest_state']\n",
    "    )\n",
    "    return {index+1: ObservationData for index in np.arange(len(sequence)-1)}"
   ]
  },
  {
   "cell_type": "markdown",
   "metadata": {},
   "source": [
    "## ESTIMATE PROBABILITIES\n",
    "\n",
    "This step involves using the Forward-Backward algorithm to calculate the probability of observing a sequence, given a set of HMM parameters. "
   ]
  },
  {
   "cell_type": "code",
   "execution_count": 32,
   "metadata": {},
   "outputs": [],
   "source": [
    "# Enforce an Argument Signature on following function to prevent errors with **kwargs\n",
    "params = [Parameter('list_of_unique_states', Parameter.POSITIONAL_OR_KEYWORD),\n",
    "         Parameter('sequence', Parameter.POSITIONAL_OR_KEYWORD),\n",
    "         Parameter('A', Parameter.KEYWORD_ONLY, default=generate_state_trans_dict),\n",
    "         Parameter('B', Parameter.KEYWORD_ONLY, default=generate_emission_prob_dist),\n",
    "         Parameter('pi', Parameter.KEYWORD_ONLY, default=generate_init_prob_dist)]\n",
    "\n",
    "sig = Signature(params)\n",
    "\n",
    "def calculate_probabilities(list_of_unique_states, sequence, **kwargs):\n",
    "    \n",
    "    # enforce signature to ensure variable names\n",
    "    bound_values = sig.bind(list_of_unique_states, sequence, **kwargs)\n",
    "    bound_values.apply_defaults()\n",
    "\n",
    "    \n",
    "    # grab params that are left to default values\n",
    "    param_defaults = [(name, val) for name, val in bound_values.arguments.items() if callable(val)]\n",
    "    \n",
    "    # grab non-default params\n",
    "    set_params = [(name, val) for name, val in bound_values.arguments.items() if isinstance(val, dict)]\n",
    "    \n",
    "    # this will run if any default hmm parameters are used\n",
    "    if param_defaults:\n",
    "        for name, val in param_defaults:\n",
    "            if name == 'B':\n",
    "                B = val(list_of_unique_states, sequence)\n",
    "            elif name == 'A':\n",
    "                A = val(list_of_unique_states)\n",
    "            elif name == 'pi':\n",
    "                pi = val(list_of_unique_states)\n",
    "            else:\n",
    "                continue\n",
    "    \n",
    "    # this will run if kwargs are provided        \n",
    "    if set_params:\n",
    "        for name, val in set_params:\n",
    "            if name == 'B':\n",
    "                B = generate_emission_prob_dist(list_of_unique_states, sequence, **val)\n",
    "            elif name == 'A':\n",
    "                A = generate_state_trans_dict(list_of_unique_states, **val)\n",
    "            elif name == 'pi':\n",
    "                pi = generate_init_prob_dist(list_of_unique_states, **val)\n",
    "            else:\n",
    "                continue\n",
    "                \n",
    "    # instantiate the data structure\n",
    "    obs_probs = generate_obs_data_structure(sequence)\n",
    "\n",
    "    # all state transitions\n",
    "    state_perms = make_state_permutations(list_of_unique_states)\n",
    "\n",
    "    # for every transition from one observation to the next, calculate probability of going from Si to Sj\n",
    "    # loop through observations\n",
    "    for idx, obs in enumerate(sequence):\n",
    "\n",
    "        if idx != 0:  # check if this is the first observation\n",
    "            # instantiate the namedtuple for this observation\n",
    "            obs_probs[idx] = obs_probs[idx]([], [], [])\n",
    "\n",
    "            # loop through each possible state transition\n",
    "            for st in state_perms:\n",
    "                \n",
    "                # calculate prob of current obs for this state\n",
    "                prev_prob = pi[st[:2]] * B[st[:2]+'_'+str(sequence[idx-1])]\n",
    "\n",
    "                # calculate prob of previous obs for this state\n",
    "                curr_prob = A[st] * B[st[2:]+'_'+str(obs)]\n",
    "\n",
    "                # combine these two probabilities\n",
    "                combined_prob = round(curr_prob * prev_prob, 4)\n",
    "\n",
    "                # append probability to the list in namedtuple\n",
    "                obs_probs[idx].prob_lst.append(combined_prob)\n",
    "\n",
    "            # check for highest prob of observing that sequence\n",
    "            prob_and_state = _grab_highest_prob_and_state(state_perms, obs_probs[idx].prob_lst)\n",
    "            obs_probs[idx].highest_prob.append(prob_and_state[0])\n",
    "            obs_probs[idx].highest_state.append(prob_and_state[1])\n",
    "\n",
    "        else: # this is the first observation, exit loop.\n",
    "            continue\n",
    "    return (obs_probs, A, B, pi)"
   ]
  },
  {
   "cell_type": "code",
   "execution_count": 37,
   "metadata": {},
   "outputs": [
    {
     "data": {
      "text/plain": [
       "{1: ObservationData(prob_lst=[0.0144, 0.0144, 0.0126, 0.0132], highest_prob=[0.0144], highest_state=['S1S1']),\n",
       " 2: ObservationData(prob_lst=[0.0144, 0.0144, 0.0126, 0.0132], highest_prob=[0.0144], highest_state=['S1S1']),\n",
       " 3: ObservationData(prob_lst=[0.0144, 0.0144, 0.0126, 0.0132], highest_prob=[0.0144], highest_state=['S1S1']),\n",
       " 4: ObservationData(prob_lst=[0.0144, 0.0144, 0.0126, 0.0132], highest_prob=[0.0144], highest_state=['S1S1']),\n",
       " 5: ObservationData(prob_lst=[0.0144, 0.0144, 0.0126, 0.0132], highest_prob=[0.0144], highest_state=['S1S1']),\n",
       " 6: ObservationData(prob_lst=[0.0144, 0.0144, 0.0126, 0.0132], highest_prob=[0.0144], highest_state=['S1S1']),\n",
       " 7: ObservationData(prob_lst=[0.0144, 0.0144, 0.0126, 0.0132], highest_prob=[0.0144], highest_state=['S1S1']),\n",
       " 8: ObservationData(prob_lst=[0.0144, 0.0144, 0.0126, 0.0132], highest_prob=[0.0144], highest_state=['S1S1']),\n",
       " 9: ObservationData(prob_lst=[0.0144, 0.0144, 0.0126, 0.0132], highest_prob=[0.0144], highest_state=['S1S1']),\n",
       " 10: ObservationData(prob_lst=[0.0144, 0.0144, 0.0126, 0.0132], highest_prob=[0.0144], highest_state=['S1S1']),\n",
       " 11: ObservationData(prob_lst=[0.0144, 0.0144, 0.0126, 0.0132], highest_prob=[0.0144], highest_state=['S1S1']),\n",
       " 12: ObservationData(prob_lst=[0.0144, 0.0144, 0.0126, 0.0132], highest_prob=[0.0144], highest_state=['S1S1']),\n",
       " 13: ObservationData(prob_lst=[0.0144, 0.0144, 0.0126, 0.0132], highest_prob=[0.0144], highest_state=['S1S1']),\n",
       " 14: ObservationData(prob_lst=[0.0144, 0.0144, 0.0126, 0.0132], highest_prob=[0.0144], highest_state=['S1S1']),\n",
       " 15: ObservationData(prob_lst=[0.0144, 0.0144, 0.0126, 0.0132], highest_prob=[0.0144], highest_state=['S1S1']),\n",
       " 16: ObservationData(prob_lst=[0.0144, 0.0144, 0.0126, 0.0132], highest_prob=[0.0144], highest_state=['S1S1']),\n",
       " 17: ObservationData(prob_lst=[0.0144, 0.0144, 0.0126, 0.0132], highest_prob=[0.0144], highest_state=['S1S1']),\n",
       " 18: ObservationData(prob_lst=[0.0144, 0.0144, 0.0126, 0.0132], highest_prob=[0.0144], highest_state=['S1S1']),\n",
       " 19: ObservationData(prob_lst=[0.0144, 0.0144, 0.0126, 0.0132], highest_prob=[0.0144], highest_state=['S1S1']),\n",
       " 20: ObservationData(prob_lst=[0.0144, 0.0144, 0.0126, 0.0132], highest_prob=[0.0144], highest_state=['S1S1']),\n",
       " 21: ObservationData(prob_lst=[0.0144, 0.0144, 0.0126, 0.0132], highest_prob=[0.0144], highest_state=['S1S1']),\n",
       " 22: ObservationData(prob_lst=[0.0144, 0.0144, 0.0126, 0.0132], highest_prob=[0.0144], highest_state=['S1S1']),\n",
       " 23: ObservationData(prob_lst=[0.0144, 0.0144, 0.0126, 0.0132], highest_prob=[0.0144], highest_state=['S1S1']),\n",
       " 24: ObservationData(prob_lst=[0.0144, 0.0144, 0.0126, 0.0132], highest_prob=[0.0144], highest_state=['S1S1']),\n",
       " 25: ObservationData(prob_lst=[0.0144, 0.0144, 0.0126, 0.0132], highest_prob=[0.0144], highest_state=['S1S1']),\n",
       " 26: ObservationData(prob_lst=[0.0192, 0.0216, 0.0168, 0.0198], highest_prob=[0.0216], highest_state=['S1S2']),\n",
       " 27: ObservationData(prob_lst=[0.0192, 0.0192, 0.0189, 0.0198], highest_prob=[0.0198], highest_state=['S2S2']),\n",
       " 28: ObservationData(prob_lst=[0.0192, 0.0216, 0.0168, 0.0198], highest_prob=[0.0216], highest_state=['S1S2']),\n",
       " 29: ObservationData(prob_lst=[0.0256, 0.0288, 0.0252, 0.0297], highest_prob=[0.0297], highest_state=['S2S2']),\n",
       " 30: ObservationData(prob_lst=[0.0256, 0.0288, 0.0252, 0.0297], highest_prob=[0.0297], highest_state=['S2S2']),\n",
       " 31: ObservationData(prob_lst=[0.0256, 0.0288, 0.0252, 0.0297], highest_prob=[0.0297], highest_state=['S2S2']),\n",
       " 32: ObservationData(prob_lst=[0.0256, 0.0288, 0.0252, 0.0297], highest_prob=[0.0297], highest_state=['S2S2']),\n",
       " 33: ObservationData(prob_lst=[0.0256, 0.0288, 0.0252, 0.0297], highest_prob=[0.0297], highest_state=['S2S2']),\n",
       " 34: ObservationData(prob_lst=[0.0256, 0.0288, 0.0252, 0.0297], highest_prob=[0.0297], highest_state=['S2S2']),\n",
       " 35: ObservationData(prob_lst=[0.0256, 0.0288, 0.0252, 0.0297], highest_prob=[0.0297], highest_state=['S2S2']),\n",
       " 36: ObservationData(prob_lst=[0.0256, 0.0288, 0.0252, 0.0297], highest_prob=[0.0297], highest_state=['S2S2']),\n",
       " 37: ObservationData(prob_lst=[0.0256, 0.0288, 0.0252, 0.0297], highest_prob=[0.0297], highest_state=['S2S2']),\n",
       " 38: ObservationData(prob_lst=[0.0256, 0.0288, 0.0252, 0.0297], highest_prob=[0.0297], highest_state=['S2S2']),\n",
       " 39: ObservationData(prob_lst=[0.0256, 0.0288, 0.0252, 0.0297], highest_prob=[0.0297], highest_state=['S2S2']),\n",
       " 40: ObservationData(prob_lst=[0.0256, 0.0288, 0.0252, 0.0297], highest_prob=[0.0297], highest_state=['S2S2']),\n",
       " 41: ObservationData(prob_lst=[0.0256, 0.0288, 0.0252, 0.0297], highest_prob=[0.0297], highest_state=['S2S2']),\n",
       " 42: ObservationData(prob_lst=[0.0256, 0.0288, 0.0252, 0.0297], highest_prob=[0.0297], highest_state=['S2S2']),\n",
       " 43: ObservationData(prob_lst=[0.0256, 0.0288, 0.0252, 0.0297], highest_prob=[0.0297], highest_state=['S2S2']),\n",
       " 44: ObservationData(prob_lst=[0.0256, 0.0288, 0.0252, 0.0297], highest_prob=[0.0297], highest_state=['S2S2']),\n",
       " 45: ObservationData(prob_lst=[0.0256, 0.0288, 0.0252, 0.0297], highest_prob=[0.0297], highest_state=['S2S2']),\n",
       " 46: ObservationData(prob_lst=[0.0256, 0.0288, 0.0252, 0.0297], highest_prob=[0.0297], highest_state=['S2S2']),\n",
       " 47: ObservationData(prob_lst=[0.0256, 0.0288, 0.0252, 0.0297], highest_prob=[0.0297], highest_state=['S2S2']),\n",
       " 48: ObservationData(prob_lst=[0.0256, 0.0288, 0.0252, 0.0297], highest_prob=[0.0297], highest_state=['S2S2']),\n",
       " 49: ObservationData(prob_lst=[0.0256, 0.0288, 0.0252, 0.0297], highest_prob=[0.0297], highest_state=['S2S2']),\n",
       " 50: ObservationData(prob_lst=[0.0256, 0.0288, 0.0252, 0.0297], highest_prob=[0.0297], highest_state=['S2S2']),\n",
       " 51: ObservationData(prob_lst=[0.0256, 0.0288, 0.0252, 0.0297], highest_prob=[0.0297], highest_state=['S2S2']),\n",
       " 52: ObservationData(prob_lst=[0.0256, 0.0288, 0.0252, 0.0297], highest_prob=[0.0297], highest_state=['S2S2']),\n",
       " 53: ObservationData(prob_lst=[0.0256, 0.0288, 0.0252, 0.0297], highest_prob=[0.0297], highest_state=['S2S2']),\n",
       " 54: ObservationData(prob_lst=[0.0256, 0.0288, 0.0252, 0.0297], highest_prob=[0.0297], highest_state=['S2S2']),\n",
       " 55: ObservationData(prob_lst=[0.0256, 0.0288, 0.0252, 0.0297], highest_prob=[0.0297], highest_state=['S2S2']),\n",
       " 56: ObservationData(prob_lst=[0.0256, 0.0288, 0.0252, 0.0297], highest_prob=[0.0297], highest_state=['S2S2']),\n",
       " 57: ObservationData(prob_lst=[0.0256, 0.0288, 0.0252, 0.0297], highest_prob=[0.0297], highest_state=['S2S2']),\n",
       " 58: ObservationData(prob_lst=[0.0256, 0.0288, 0.0252, 0.0297], highest_prob=[0.0297], highest_state=['S2S2']),\n",
       " 59: ObservationData(prob_lst=[0.0256, 0.0288, 0.0252, 0.0297], highest_prob=[0.0297], highest_state=['S2S2']),\n",
       " 60: ObservationData(prob_lst=[0.0256, 0.0288, 0.0252, 0.0297], highest_prob=[0.0297], highest_state=['S2S2']),\n",
       " 61: ObservationData(prob_lst=[0.0256, 0.0288, 0.0252, 0.0297], highest_prob=[0.0297], highest_state=['S2S2']),\n",
       " 62: ObservationData(prob_lst=[0.0256, 0.0288, 0.0252, 0.0297], highest_prob=[0.0297], highest_state=['S2S2']),\n",
       " 63: ObservationData(prob_lst=[0.0256, 0.0288, 0.0252, 0.0297], highest_prob=[0.0297], highest_state=['S2S2']),\n",
       " 64: ObservationData(prob_lst=[0.0256, 0.0288, 0.0252, 0.0297], highest_prob=[0.0297], highest_state=['S2S2']),\n",
       " 65: ObservationData(prob_lst=[0.0256, 0.0288, 0.0252, 0.0297], highest_prob=[0.0297], highest_state=['S2S2']),\n",
       " 66: ObservationData(prob_lst=[0.0256, 0.0288, 0.0252, 0.0297], highest_prob=[0.0297], highest_state=['S2S2']),\n",
       " 67: ObservationData(prob_lst=[0.0256, 0.0288, 0.0252, 0.0297], highest_prob=[0.0297], highest_state=['S2S2']),\n",
       " 68: ObservationData(prob_lst=[0.0256, 0.0288, 0.0252, 0.0297], highest_prob=[0.0297], highest_state=['S2S2']),\n",
       " 69: ObservationData(prob_lst=[0.0256, 0.0288, 0.0252, 0.0297], highest_prob=[0.0297], highest_state=['S2S2']),\n",
       " 70: ObservationData(prob_lst=[0.0256, 0.0288, 0.0252, 0.0297], highest_prob=[0.0297], highest_state=['S2S2']),\n",
       " 71: ObservationData(prob_lst=[0.0256, 0.0288, 0.0252, 0.0297], highest_prob=[0.0297], highest_state=['S2S2']),\n",
       " 72: ObservationData(prob_lst=[0.0256, 0.0288, 0.0252, 0.0297], highest_prob=[0.0297], highest_state=['S2S2']),\n",
       " 73: ObservationData(prob_lst=[0.0256, 0.0288, 0.0252, 0.0297], highest_prob=[0.0297], highest_state=['S2S2']),\n",
       " 74: ObservationData(prob_lst=[0.0256, 0.0288, 0.0252, 0.0297], highest_prob=[0.0297], highest_state=['S2S2']),\n",
       " 75: ObservationData(prob_lst=[0.0256, 0.0288, 0.0252, 0.0297], highest_prob=[0.0297], highest_state=['S2S2']),\n",
       " 76: ObservationData(prob_lst=[0.0256, 0.0288, 0.0252, 0.0297], highest_prob=[0.0297], highest_state=['S2S2']),\n",
       " 77: ObservationData(prob_lst=[0.0256, 0.0288, 0.0252, 0.0297], highest_prob=[0.0297], highest_state=['S2S2']),\n",
       " 78: ObservationData(prob_lst=[0.0064, 0.0144, 0.0063, 0.0149], highest_prob=[0.0149], highest_state=['S2S2']),\n",
       " 79: ObservationData(prob_lst=[0.0016, 0.0036, 0.0031, 0.0074], highest_prob=[0.0074], highest_state=['S2S2']),\n",
       " 80: ObservationData(prob_lst=[0.0016, 0.0036, 0.0031, 0.0074], highest_prob=[0.0074], highest_state=['S2S2']),\n",
       " 81: ObservationData(prob_lst=[0.0016, 0.0036, 0.0031, 0.0074], highest_prob=[0.0074], highest_state=['S2S2']),\n",
       " 82: ObservationData(prob_lst=[0.0016, 0.0036, 0.0031, 0.0074], highest_prob=[0.0074], highest_state=['S2S2']),\n",
       " 83: ObservationData(prob_lst=[0.0016, 0.0036, 0.0031, 0.0074], highest_prob=[0.0074], highest_state=['S2S2']),\n",
       " 84: ObservationData(prob_lst=[0.0016, 0.0036, 0.0031, 0.0074], highest_prob=[0.0074], highest_state=['S2S2']),\n",
       " 85: ObservationData(prob_lst=[0.0016, 0.0036, 0.0031, 0.0074], highest_prob=[0.0074], highest_state=['S2S2']),\n",
       " 86: ObservationData(prob_lst=[0.0016, 0.0036, 0.0031, 0.0074], highest_prob=[0.0074], highest_state=['S2S2']),\n",
       " 87: ObservationData(prob_lst=[0.0016, 0.0036, 0.0031, 0.0074], highest_prob=[0.0074], highest_state=['S2S2']),\n",
       " 88: ObservationData(prob_lst=[0.0008, 0.0072, 0.0016, 0.0149], highest_prob=[0.0149], highest_state=['S2S2']),\n",
       " 89: ObservationData(prob_lst=[0.0004, 0.0036, 0.0031, 0.0297], highest_prob=[0.0297], highest_state=['S2S2']),\n",
       " 90: ObservationData(prob_lst=[0.0004, 0.0036, 0.0031, 0.0297], highest_prob=[0.0297], highest_state=['S2S2']),\n",
       " 91: ObservationData(prob_lst=[0.0004, 0.0036, 0.0031, 0.0297], highest_prob=[0.0297], highest_state=['S2S2']),\n",
       " 92: ObservationData(prob_lst=[0.0004, 0.0036, 0.0031, 0.0297], highest_prob=[0.0297], highest_state=['S2S2']),\n",
       " 93: ObservationData(prob_lst=[0.0004, 0.0036, 0.0031, 0.0297], highest_prob=[0.0297], highest_state=['S2S2']),\n",
       " 94: ObservationData(prob_lst=[0.0008, 0.0018, 0.0063, 0.0149], highest_prob=[0.0149], highest_state=['S2S2']),\n",
       " 95: ObservationData(prob_lst=[0.0016, 0.0036, 0.0031, 0.0074], highest_prob=[0.0074], highest_state=['S2S2']),\n",
       " 96: ObservationData(prob_lst=[0.0016, 0.0036, 0.0031, 0.0074], highest_prob=[0.0074], highest_state=['S2S2']),\n",
       " 97: ObservationData(prob_lst=[0.0016, 0.0036, 0.0031, 0.0074], highest_prob=[0.0074], highest_state=['S2S2']),\n",
       " 98: ObservationData(prob_lst=[0.0016, 0.0036, 0.0031, 0.0074], highest_prob=[0.0074], highest_state=['S2S2']),\n",
       " 99: ObservationData(prob_lst=[0.0016, 0.0036, 0.0031, 0.0074], highest_prob=[0.0074], highest_state=['S2S2']),\n",
       " 100: ObservationData(prob_lst=[0.0016, 0.0036, 0.0031, 0.0074], highest_prob=[0.0074], highest_state=['S2S2']),\n",
       " 101: ObservationData(prob_lst=[0.0016, 0.0036, 0.0031, 0.0074], highest_prob=[0.0074], highest_state=['S2S2']),\n",
       " 102: ObservationData(prob_lst=[0.0016, 0.0036, 0.0031, 0.0074], highest_prob=[0.0074], highest_state=['S2S2']),\n",
       " 103: ObservationData(prob_lst=[0.0016, 0.0036, 0.0031, 0.0074], highest_prob=[0.0074], highest_state=['S2S2']),\n",
       " 104: ObservationData(prob_lst=[0.0016, 0.0036, 0.0031, 0.0074], highest_prob=[0.0074], highest_state=['S2S2']),\n",
       " 105: ObservationData(prob_lst=[0.0016, 0.0036, 0.0031, 0.0074], highest_prob=[0.0074], highest_state=['S2S2']),\n",
       " 106: ObservationData(prob_lst=[0.0016, 0.0036, 0.0031, 0.0074], highest_prob=[0.0074], highest_state=['S2S2']),\n",
       " 107: ObservationData(prob_lst=[0.0016, 0.0036, 0.0031, 0.0074], highest_prob=[0.0074], highest_state=['S2S2']),\n",
       " 108: ObservationData(prob_lst=[0.0016, 0.0036, 0.0031, 0.0074], highest_prob=[0.0074], highest_state=['S2S2']),\n",
       " 109: ObservationData(prob_lst=[0.0016, 0.0036, 0.0031, 0.0074], highest_prob=[0.0074], highest_state=['S2S2']),\n",
       " 110: ObservationData(prob_lst=[0.0016, 0.0036, 0.0031, 0.0074], highest_prob=[0.0074], highest_state=['S2S2']),\n",
       " 111: ObservationData(prob_lst=[0.0016, 0.0036, 0.0031, 0.0074], highest_prob=[0.0074], highest_state=['S2S2']),\n",
       " 112: ObservationData(prob_lst=[0.0016, 0.0036, 0.0031, 0.0074], highest_prob=[0.0074], highest_state=['S2S2']),\n",
       " 113: ObservationData(prob_lst=[0.0016, 0.0036, 0.0031, 0.0074], highest_prob=[0.0074], highest_state=['S2S2']),\n",
       " 114: ObservationData(prob_lst=[0.0016, 0.0036, 0.0031, 0.0074], highest_prob=[0.0074], highest_state=['S2S2']),\n",
       " 115: ObservationData(prob_lst=[0.0016, 0.0036, 0.0031, 0.0074], highest_prob=[0.0074], highest_state=['S2S2']),\n",
       " 116: ObservationData(prob_lst=[0.0016, 0.0036, 0.0031, 0.0074], highest_prob=[0.0074], highest_state=['S2S2']),\n",
       " 117: ObservationData(prob_lst=[0.0016, 0.0036, 0.0031, 0.0074], highest_prob=[0.0074], highest_state=['S2S2']),\n",
       " 118: ObservationData(prob_lst=[0.0016, 0.0036, 0.0031, 0.0074], highest_prob=[0.0074], highest_state=['S2S2']),\n",
       " 119: ObservationData(prob_lst=[0.0016, 0.0036, 0.0031, 0.0074], highest_prob=[0.0074], highest_state=['S2S2']),\n",
       " 120: ObservationData(prob_lst=[0.0008, 0.0072, 0.0016, 0.0149], highest_prob=[0.0149], highest_state=['S2S2']),\n",
       " 121: ObservationData(prob_lst=[0.0004, 0.0036, 0.0031, 0.0297], highest_prob=[0.0297], highest_state=['S2S2']),\n",
       " 122: ObservationData(prob_lst=[0.0004, 0.0036, 0.0031, 0.0297], highest_prob=[0.0297], highest_state=['S2S2']),\n",
       " 123: ObservationData(prob_lst=[0.0004, 0.0036, 0.0031, 0.0297], highest_prob=[0.0297], highest_state=['S2S2']),\n",
       " 124: ObservationData(prob_lst=[0.0004, 0.0036, 0.0031, 0.0297], highest_prob=[0.0297], highest_state=['S2S2']),\n",
       " 125: ObservationData(prob_lst=[0.0004, 0.0036, 0.0031, 0.0297], highest_prob=[0.0297], highest_state=['S2S2']),\n",
       " 126: ObservationData(prob_lst=[0.0004, 0.0036, 0.0031, 0.0297], highest_prob=[0.0297], highest_state=['S2S2']),\n",
       " 127: ObservationData(prob_lst=[0.0004, 0.0036, 0.0031, 0.0297], highest_prob=[0.0297], highest_state=['S2S2']),\n",
       " 128: ObservationData(prob_lst=[0.0004, 0.0036, 0.0031, 0.0297], highest_prob=[0.0297], highest_state=['S2S2']),\n",
       " 129: ObservationData(prob_lst=[0.0004, 0.0036, 0.0031, 0.0297], highest_prob=[0.0297], highest_state=['S2S2']),\n",
       " 130: ObservationData(prob_lst=[0.0008, 0.0018, 0.0063, 0.0149], highest_prob=[0.0149], highest_state=['S2S2']),\n",
       " 131: ObservationData(prob_lst=[0.0016, 0.0036, 0.0031, 0.0074], highest_prob=[0.0074], highest_state=['S2S2']),\n",
       " 132: ObservationData(prob_lst=[0.0016, 0.0036, 0.0031, 0.0074], highest_prob=[0.0074], highest_state=['S2S2']),\n",
       " 133: ObservationData(prob_lst=[0.0016, 0.0036, 0.0031, 0.0074], highest_prob=[0.0074], highest_state=['S2S2']),\n",
       " 134: ObservationData(prob_lst=[0.0008, 0.0072, 0.0016, 0.0149], highest_prob=[0.0149], highest_state=['S2S2']),\n",
       " 135: ObservationData(prob_lst=[0.0004, 0.0036, 0.0031, 0.0297], highest_prob=[0.0297], highest_state=['S2S2']),\n",
       " 136: ObservationData(prob_lst=[0.0004, 0.0036, 0.0031, 0.0297], highest_prob=[0.0297], highest_state=['S2S2']),\n",
       " 137: ObservationData(prob_lst=[0.0004, 0.0036, 0.0031, 0.0297], highest_prob=[0.0297], highest_state=['S2S2']),\n",
       " 138: ObservationData(prob_lst=[0.0004, 0.0036, 0.0031, 0.0297], highest_prob=[0.0297], highest_state=['S2S2']),\n",
       " 139: ObservationData(prob_lst=[0.0004, 0.0036, 0.0031, 0.0297], highest_prob=[0.0297], highest_state=['S2S2']),\n",
       " 140: ObservationData(prob_lst=[0.0004, 0.0036, 0.0031, 0.0297], highest_prob=[0.0297], highest_state=['S2S2']),\n",
       " 141: ObservationData(prob_lst=[0.0004, 0.0036, 0.0031, 0.0297], highest_prob=[0.0297], highest_state=['S2S2']),\n",
       " 142: ObservationData(prob_lst=[0.0004, 0.0036, 0.0031, 0.0297], highest_prob=[0.0297], highest_state=['S2S2']),\n",
       " 143: ObservationData(prob_lst=[0.0004, 0.0036, 0.0031, 0.0297], highest_prob=[0.0297], highest_state=['S2S2']),\n",
       " 144: ObservationData(prob_lst=[0.0004, 0.0036, 0.0031, 0.0297], highest_prob=[0.0297], highest_state=['S2S2']),\n",
       " 145: ObservationData(prob_lst=[0.0004, 0.0036, 0.0031, 0.0297], highest_prob=[0.0297], highest_state=['S2S2']),\n",
       " 146: ObservationData(prob_lst=[0.0004, 0.0036, 0.0031, 0.0297], highest_prob=[0.0297], highest_state=['S2S2']),\n",
       " 147: ObservationData(prob_lst=[0.0004, 0.0036, 0.0031, 0.0297], highest_prob=[0.0297], highest_state=['S2S2']),\n",
       " 148: ObservationData(prob_lst=[0.0004, 0.0036, 0.0031, 0.0297], highest_prob=[0.0297], highest_state=['S2S2']),\n",
       " 149: ObservationData(prob_lst=[0.0004, 0.0036, 0.0031, 0.0297], highest_prob=[0.0297], highest_state=['S2S2']),\n",
       " 150: ObservationData(prob_lst=[0.0004, 0.0036, 0.0031, 0.0297], highest_prob=[0.0297], highest_state=['S2S2']),\n",
       " 151: ObservationData(prob_lst=[0.0004, 0.0036, 0.0031, 0.0297], highest_prob=[0.0297], highest_state=['S2S2']),\n",
       " 152: ObservationData(prob_lst=[0.0004, 0.0036, 0.0031, 0.0297], highest_prob=[0.0297], highest_state=['S2S2']),\n",
       " 153: ObservationData(prob_lst=[0.0004, 0.0036, 0.0031, 0.0297], highest_prob=[0.0297], highest_state=['S2S2']),\n",
       " 154: ObservationData(prob_lst=[0.0004, 0.0036, 0.0031, 0.0297], highest_prob=[0.0297], highest_state=['S2S2']),\n",
       " 155: ObservationData(prob_lst=[0.0004, 0.0036, 0.0031, 0.0297], highest_prob=[0.0297], highest_state=['S2S2']),\n",
       " 156: ObservationData(prob_lst=[0.0004, 0.0036, 0.0031, 0.0297], highest_prob=[0.0297], highest_state=['S2S2']),\n",
       " 157: ObservationData(prob_lst=[0.0004, 0.0036, 0.0031, 0.0297], highest_prob=[0.0297], highest_state=['S2S2']),\n",
       " 158: ObservationData(prob_lst=[0.0004, 0.0036, 0.0031, 0.0297], highest_prob=[0.0297], highest_state=['S2S2']),\n",
       " 159: ObservationData(prob_lst=[0.0004, 0.0036, 0.0031, 0.0297], highest_prob=[0.0297], highest_state=['S2S2']),\n",
       " 160: ObservationData(prob_lst=[0.0004, 0.0036, 0.0031, 0.0297], highest_prob=[0.0297], highest_state=['S2S2']),\n",
       " 161: ObservationData(prob_lst=[0.0004, 0.0036, 0.0031, 0.0297], highest_prob=[0.0297], highest_state=['S2S2']),\n",
       " 162: ObservationData(prob_lst=[0.0004, 0.0036, 0.0031, 0.0297], highest_prob=[0.0297], highest_state=['S2S2']),\n",
       " 163: ObservationData(prob_lst=[0.0004, 0.0036, 0.0031, 0.0297], highest_prob=[0.0297], highest_state=['S2S2']),\n",
       " 164: ObservationData(prob_lst=[0.0004, 0.0036, 0.0031, 0.0297], highest_prob=[0.0297], highest_state=['S2S2']),\n",
       " 165: ObservationData(prob_lst=[0.0004, 0.0036, 0.0031, 0.0297], highest_prob=[0.0297], highest_state=['S2S2']),\n",
       " 166: ObservationData(prob_lst=[0.0004, 0.0036, 0.0031, 0.0297], highest_prob=[0.0297], highest_state=['S2S2']),\n",
       " 167: ObservationData(prob_lst=[0.0004, 0.0036, 0.0031, 0.0297], highest_prob=[0.0297], highest_state=['S2S2']),\n",
       " 168: ObservationData(prob_lst=[0.0004, 0.0036, 0.0031, 0.0297], highest_prob=[0.0297], highest_state=['S2S2']),\n",
       " 169: ObservationData(prob_lst=[0.0004, 0.0036, 0.0031, 0.0297], highest_prob=[0.0297], highest_state=['S2S2']),\n",
       " 170: ObservationData(prob_lst=[0.0004, 0.0036, 0.0031, 0.0297], highest_prob=[0.0297], highest_state=['S2S2']),\n",
       " 171: ObservationData(prob_lst=[0.0004, 0.0036, 0.0031, 0.0297], highest_prob=[0.0297], highest_state=['S2S2']),\n",
       " 172: ObservationData(prob_lst=[0.0004, 0.0036, 0.0031, 0.0297], highest_prob=[0.0297], highest_state=['S2S2']),\n",
       " 173: ObservationData(prob_lst=[0.0004, 0.0036, 0.0031, 0.0297], highest_prob=[0.0297], highest_state=['S2S2']),\n",
       " 174: ObservationData(prob_lst=[0.0004, 0.0036, 0.0031, 0.0297], highest_prob=[0.0297], highest_state=['S2S2']),\n",
       " 175: ObservationData(prob_lst=[0.0004, 0.0036, 0.0031, 0.0297], highest_prob=[0.0297], highest_state=['S2S2']),\n",
       " 176: ObservationData(prob_lst=[0.0004, 0.0036, 0.0031, 0.0297], highest_prob=[0.0297], highest_state=['S2S2']),\n",
       " 177: ObservationData(prob_lst=[0.0004, 0.0036, 0.0031, 0.0297], highest_prob=[0.0297], highest_state=['S2S2']),\n",
       " 178: ObservationData(prob_lst=[0.0008, 0.0018, 0.0063, 0.0149], highest_prob=[0.0149], highest_state=['S2S2']),\n",
       " 179: ObservationData(prob_lst=[0.0016, 0.0036, 0.0031, 0.0074], highest_prob=[0.0074], highest_state=['S2S2']),\n",
       " 180: ObservationData(prob_lst=[0.0016, 0.0036, 0.0031, 0.0074], highest_prob=[0.0074], highest_state=['S2S2']),\n",
       " 181: ObservationData(prob_lst=[0.0008, 0.0072, 0.0016, 0.0149], highest_prob=[0.0149], highest_state=['S2S2']),\n",
       " 182: ObservationData(prob_lst=[0.0004, 0.0036, 0.0031, 0.0297], highest_prob=[0.0297], highest_state=['S2S2']),\n",
       " 183: ObservationData(prob_lst=[0.0012, 0.0006, 0.0095, 0.005], highest_prob=[0.0095], highest_state=['S2S1']),\n",
       " 184: ObservationData(prob_lst=[0.0036, 0.0018, 0.0016, 0.0008], highest_prob=[0.0036], highest_state=['S1S1']),\n",
       " 185: ObservationData(prob_lst=[0.0036, 0.0018, 0.0016, 0.0008], highest_prob=[0.0036], highest_state=['S1S1']),\n",
       " 186: ObservationData(prob_lst=[0.0036, 0.0018, 0.0016, 0.0008], highest_prob=[0.0036], highest_state=['S1S1']),\n",
       " 187: ObservationData(prob_lst=[0.0036, 0.0018, 0.0016, 0.0008], highest_prob=[0.0036], highest_state=['S1S1']),\n",
       " 188: ObservationData(prob_lst=[0.0036, 0.0018, 0.0016, 0.0008], highest_prob=[0.0036], highest_state=['S1S1']),\n",
       " 189: ObservationData(prob_lst=[0.0036, 0.0018, 0.0016, 0.0008], highest_prob=[0.0036], highest_state=['S1S1']),\n",
       " 190: ObservationData(prob_lst=[0.0036, 0.0018, 0.0016, 0.0008], highest_prob=[0.0036], highest_state=['S1S1']),\n",
       " 191: ObservationData(prob_lst=[0.0036, 0.0018, 0.0016, 0.0008], highest_prob=[0.0036], highest_state=['S1S1']),\n",
       " 192: ObservationData(prob_lst=[0.0036, 0.0018, 0.0016, 0.0008], highest_prob=[0.0036], highest_state=['S1S1']),\n",
       " 193: ObservationData(prob_lst=[0.0036, 0.0018, 0.0016, 0.0008], highest_prob=[0.0036], highest_state=['S1S1']),\n",
       " 194: ObservationData(prob_lst=[0.0036, 0.0018, 0.0016, 0.0008], highest_prob=[0.0036], highest_state=['S1S1']),\n",
       " 195: ObservationData(prob_lst=[0.0036, 0.0018, 0.0016, 0.0008], highest_prob=[0.0036], highest_state=['S1S1']),\n",
       " 196: ObservationData(prob_lst=[0.0036, 0.0018, 0.0016, 0.0008], highest_prob=[0.0036], highest_state=['S1S1']),\n",
       " 197: ObservationData(prob_lst=[0.0036, 0.0018, 0.0016, 0.0008], highest_prob=[0.0036], highest_state=['S1S1']),\n",
       " 198: ObservationData(prob_lst=[0.0036, 0.0018, 0.0016, 0.0008], highest_prob=[0.0036], highest_state=['S1S1']),\n",
       " 199: ObservationData(prob_lst=[0.0036, 0.0018, 0.0016, 0.0008], highest_prob=[0.0036], highest_state=['S1S1']),\n",
       " 200: ObservationData(prob_lst=[0.0036, 0.0018, 0.0016, 0.0008], highest_prob=[0.0036], highest_state=['S1S1']),\n",
       " 201: ObservationData(prob_lst=[0.0036, 0.0018, 0.0016, 0.0008], highest_prob=[0.0036], highest_state=['S1S1']),\n",
       " 202: ObservationData(prob_lst=[0.0036, 0.0018, 0.0016, 0.0008], highest_prob=[0.0036], highest_state=['S1S1']),\n",
       " 203: ObservationData(prob_lst=[0.0036, 0.0018, 0.0016, 0.0008], highest_prob=[0.0036], highest_state=['S1S1']),\n",
       " 204: ObservationData(prob_lst=[0.0036, 0.0018, 0.0016, 0.0008], highest_prob=[0.0036], highest_state=['S1S1']),\n",
       " 205: ObservationData(prob_lst=[0.0036, 0.0018, 0.0016, 0.0008], highest_prob=[0.0036], highest_state=['S1S1']),\n",
       " 206: ObservationData(prob_lst=[0.0036, 0.0018, 0.0016, 0.0008], highest_prob=[0.0036], highest_state=['S1S1']),\n",
       " 207: ObservationData(prob_lst=[0.0036, 0.0018, 0.0016, 0.0008], highest_prob=[0.0036], highest_state=['S1S1']),\n",
       " 208: ObservationData(prob_lst=[0.0036, 0.0018, 0.0016, 0.0008], highest_prob=[0.0036], highest_state=['S1S1']),\n",
       " 209: ObservationData(prob_lst=[0.0036, 0.0018, 0.0016, 0.0008], highest_prob=[0.0036], highest_state=['S1S1']),\n",
       " 210: ObservationData(prob_lst=[0.0036, 0.0018, 0.0016, 0.0008], highest_prob=[0.0036], highest_state=['S1S1']),\n",
       " 211: ObservationData(prob_lst=[0.0036, 0.0018, 0.0016, 0.0008], highest_prob=[0.0036], highest_state=['S1S1']),\n",
       " 212: ObservationData(prob_lst=[0.0036, 0.0018, 0.0016, 0.0008], highest_prob=[0.0036], highest_state=['S1S1']),\n",
       " 213: ObservationData(prob_lst=[0.0036, 0.0018, 0.0016, 0.0008], highest_prob=[0.0036], highest_state=['S1S1']),\n",
       " 214: ObservationData(prob_lst=[0.0036, 0.0018, 0.0016, 0.0008], highest_prob=[0.0036], highest_state=['S1S1']),\n",
       " 215: ObservationData(prob_lst=[0.0036, 0.0018, 0.0016, 0.0008], highest_prob=[0.0036], highest_state=['S1S1']),\n",
       " 216: ObservationData(prob_lst=[0.0036, 0.0018, 0.0016, 0.0008], highest_prob=[0.0036], highest_state=['S1S1']),\n",
       " 217: ObservationData(prob_lst=[0.0036, 0.0018, 0.0016, 0.0008], highest_prob=[0.0036], highest_state=['S1S1']),\n",
       " 218: ObservationData(prob_lst=[0.0036, 0.0018, 0.0016, 0.0008], highest_prob=[0.0036], highest_state=['S1S1']),\n",
       " 219: ObservationData(prob_lst=[0.0036, 0.0018, 0.0016, 0.0008], highest_prob=[0.0036], highest_state=['S1S1']),\n",
       " 220: ObservationData(prob_lst=[0.0036, 0.0018, 0.0016, 0.0008], highest_prob=[0.0036], highest_state=['S1S1']),\n",
       " 221: ObservationData(prob_lst=[0.0036, 0.0018, 0.0016, 0.0008], highest_prob=[0.0036], highest_state=['S1S1']),\n",
       " 222: ObservationData(prob_lst=[0.0036, 0.0018, 0.0016, 0.0008], highest_prob=[0.0036], highest_state=['S1S1']),\n",
       " 223: ObservationData(prob_lst=[0.0036, 0.0018, 0.0016, 0.0008], highest_prob=[0.0036], highest_state=['S1S1']),\n",
       " 224: ObservationData(prob_lst=[0.0036, 0.0018, 0.0016, 0.0008], highest_prob=[0.0036], highest_state=['S1S1']),\n",
       " 225: ObservationData(prob_lst=[0.0036, 0.0018, 0.0016, 0.0008], highest_prob=[0.0036], highest_state=['S1S1']),\n",
       " 226: ObservationData(prob_lst=[0.0036, 0.0018, 0.0016, 0.0008], highest_prob=[0.0036], highest_state=['S1S1']),\n",
       " 227: ObservationData(prob_lst=[0.0036, 0.0018, 0.0016, 0.0008], highest_prob=[0.0036], highest_state=['S1S1']),\n",
       " 228: ObservationData(prob_lst=[0.0036, 0.0018, 0.0016, 0.0008], highest_prob=[0.0036], highest_state=['S1S1']),\n",
       " 229: ObservationData(prob_lst=[0.0036, 0.0018, 0.0016, 0.0008], highest_prob=[0.0036], highest_state=['S1S1']),\n",
       " 230: ObservationData(prob_lst=[0.0036, 0.0018, 0.0016, 0.0008], highest_prob=[0.0036], highest_state=['S1S1']),\n",
       " 231: ObservationData(prob_lst=[0.0036, 0.0018, 0.0016, 0.0008], highest_prob=[0.0036], highest_state=['S1S1']),\n",
       " 232: ObservationData(prob_lst=[0.0036, 0.0018, 0.0016, 0.0008], highest_prob=[0.0036], highest_state=['S1S1']),\n",
       " 233: ObservationData(prob_lst=[0.0036, 0.0018, 0.0016, 0.0008], highest_prob=[0.0036], highest_state=['S1S1']),\n",
       " 234: ObservationData(prob_lst=[0.0036, 0.0018, 0.0016, 0.0008], highest_prob=[0.0036], highest_state=['S1S1']),\n",
       " 235: ObservationData(prob_lst=[0.0036, 0.0018, 0.0016, 0.0008], highest_prob=[0.0036], highest_state=['S1S1']),\n",
       " 236: ObservationData(prob_lst=[0.0036, 0.0018, 0.0016, 0.0008], highest_prob=[0.0036], highest_state=['S1S1']),\n",
       " 237: ObservationData(prob_lst=[0.0036, 0.0018, 0.0016, 0.0008], highest_prob=[0.0036], highest_state=['S1S1']),\n",
       " 238: ObservationData(prob_lst=[0.0036, 0.0018, 0.0016, 0.0008], highest_prob=[0.0036], highest_state=['S1S1']),\n",
       " 239: ObservationData(prob_lst=[0.0036, 0.0018, 0.0016, 0.0008], highest_prob=[0.0036], highest_state=['S1S1']),\n",
       " 240: ObservationData(prob_lst=[0.0036, 0.0018, 0.0016, 0.0008], highest_prob=[0.0036], highest_state=['S1S1']),\n",
       " 241: ObservationData(prob_lst=[0.0036, 0.0018, 0.0016, 0.0008], highest_prob=[0.0036], highest_state=['S1S1']),\n",
       " 242: ObservationData(prob_lst=[0.0036, 0.0018, 0.0016, 0.0008], highest_prob=[0.0036], highest_state=['S1S1']),\n",
       " 243: ObservationData(prob_lst=[0.0036, 0.0018, 0.0016, 0.0008], highest_prob=[0.0036], highest_state=['S1S1']),\n",
       " 244: ObservationData(prob_lst=[0.0036, 0.0018, 0.0016, 0.0008], highest_prob=[0.0036], highest_state=['S1S1']),\n",
       " 245: ObservationData(prob_lst=[0.0036, 0.0018, 0.0016, 0.0008], highest_prob=[0.0036], highest_state=['S1S1']),\n",
       " 246: ObservationData(prob_lst=[0.0036, 0.0018, 0.0016, 0.0008], highest_prob=[0.0036], highest_state=['S1S1']),\n",
       " 247: ObservationData(prob_lst=[0.0036, 0.0018, 0.0016, 0.0008], highest_prob=[0.0036], highest_state=['S1S1'])}"
      ]
     },
     "execution_count": 37,
     "metadata": {},
     "output_type": "execute_result"
    }
   ],
   "source": [
    "ob_prob, A, B, pi = calculate_probabilities(STATE_LIST, corn13_17_seq, A=A_prior, B=B_prior, pi=pi)\n",
    "ob_prob"
   ]
  },
  {
   "cell_type": "code",
   "execution_count": 38,
   "metadata": {},
   "outputs": [
    {
     "data": {
      "text/plain": [
       "{'S1': 0.5, 'S2': 0.5}"
      ]
     },
     "execution_count": 38,
     "metadata": {},
     "output_type": "execute_result"
    }
   ],
   "source": [
    "# Using default initial parameters \n",
    "generate_init_prob_dist(STATE_LIST)"
   ]
  },
  {
   "cell_type": "code",
   "execution_count": 39,
   "metadata": {},
   "outputs": [
    {
     "data": {
      "text/plain": [
       "{'S1S1': 0.4, 'S1S2': 0.6, 'S2S1': 0.35, 'S2S2': 0.55}"
      ]
     },
     "execution_count": 39,
     "metadata": {},
     "output_type": "execute_result"
    }
   ],
   "source": [
    "A"
   ]
  },
  {
   "cell_type": "code",
   "execution_count": 40,
   "metadata": {},
   "outputs": [
    {
     "data": {
      "text/plain": [
       "{'S1_0': 0.1,\n",
       " 'S1_1': 0.3,\n",
       " 'S1_2': 0.4,\n",
       " 'S1_3': 0.15,\n",
       " 'S1_4': 0.05,\n",
       " 'S2_0': 0.15,\n",
       " 'S2_1': 0.2,\n",
       " 'S2_2': 0.3,\n",
       " 'S2_3': 0.05,\n",
       " 'S2_4': 0.3}"
      ]
     },
     "execution_count": 40,
     "metadata": {},
     "output_type": "execute_result"
    }
   ],
   "source": [
    "B"
   ]
  },
  {
   "cell_type": "code",
   "execution_count": 41,
   "metadata": {},
   "outputs": [
    {
     "data": {
      "text/plain": [
       "{'S1': 0.4, 'S2': 0.6}"
      ]
     },
     "execution_count": 41,
     "metadata": {},
     "output_type": "execute_result"
    }
   ],
   "source": [
    "pi"
   ]
  },
  {
   "cell_type": "markdown",
   "metadata": {},
   "source": [
    "# Update Parameters\n",
    "\n",
    "Update transition matrix"
   ]
  },
  {
   "cell_type": "code",
   "execution_count": 42,
   "metadata": {},
   "outputs": [],
   "source": [
    "# This function sums all of the probabilities and \n",
    "# outputs a new (un-normalized) state transition matrix\n",
    "\n",
    "def new_state_trans(STATE_LIST, probabilities):\n",
    "    \n",
    "    state_perms = make_state_permutations(STATE_LIST)\n",
    "    sums_of_st_trans_prob = {p:0 for p in state_perms}\n",
    "    highest_prob_sum = 0\n",
    "    \n",
    "    for obs in probabilities:\n",
    "        highest_prob_sum += probabilities[obs].highest_prob[0]\n",
    "        for i, p in enumerate(sums_of_st_trans_prob):\n",
    "            sums_of_st_trans_prob[p] += probabilities[obs].prob_lst[i]\n",
    "    \n",
    "    for key in sums_of_st_trans_prob:\n",
    "        sums_of_st_trans_prob[key] = sums_of_st_trans_prob[key] / highest_prob_sum\n",
    "    \n",
    "    # finally, normalize so the rows add up to 1\n",
    "    for s in STATE_LIST:\n",
    "        l = []\n",
    "        for k in sums_of_st_trans_prob:\n",
    "            if s == k[:2]:\n",
    "                l.append(sums_of_st_trans_prob[k])\n",
    "        for k in sums_of_st_trans_prob:\n",
    "            if s == k[:2]:\n",
    "                sums_of_st_trans_prob[k] = sums_of_st_trans_prob[k] / sum(l)\n",
    "    \n",
    "    return sums_of_st_trans_prob"
   ]
  },
  {
   "cell_type": "markdown",
   "metadata": {},
   "source": [
    "Update and normalize posterior state transition"
   ]
  },
  {
   "cell_type": "code",
   "execution_count": 43,
   "metadata": {},
   "outputs": [
    {
     "data": {
      "text/plain": [
       "{'S1S1': 0.4602152515867919,\n",
       " 'S1S2': 0.5397847484132082,\n",
       " 'S2S1': 0.3367172332093854,\n",
       " 'S2S2': 0.6632827667906147}"
      ]
     },
     "execution_count": 43,
     "metadata": {},
     "output_type": "execute_result"
    }
   ],
   "source": [
    "A_posterior = new_state_trans(STATE_LIST, ob_prob)\n",
    "A_posterior"
   ]
  },
  {
   "cell_type": "markdown",
   "metadata": {},
   "source": [
    "Convert state transition to \"format 2\" so it can be used as input in the next iteration of \"E\" step"
   ]
  },
  {
   "cell_type": "code",
   "execution_count": 44,
   "metadata": {},
   "outputs": [],
   "source": [
    "A_posterior = dict_to_tuples(STATE_LIST, A_posterior)"
   ]
  },
  {
   "cell_type": "markdown",
   "metadata": {},
   "source": [
    "## Update The Emission Probability\n",
    "\n",
    "Here, we define some functions designed to do specific tasks."
   ]
  },
  {
   "cell_type": "code",
   "execution_count": 46,
   "metadata": {},
   "outputs": [
    {
     "data": {
      "text/plain": [
       "[(0, 0), (0, 1), (0, 3), (1, 0), (1, 1), (1, 3), (3, 0), (3, 1), (3, 3)]"
      ]
     },
     "execution_count": 46,
     "metadata": {},
     "output_type": "execute_result"
    }
   ],
   "source": [
    "##### tally up all observed sequences\n",
    "def observed_pairs(sequence):\n",
    "    observed_pairs = []\n",
    "    \n",
    "    for idx in range(len(sequence)-1):\n",
    "        observed_pairs.append((sequence[idx], sequence[idx+1]))\n",
    "        \n",
    "    return observed_pairs\n",
    "\n",
    "def make_emission_permutations(sequence):\n",
    "    \n",
    "    unique_e = np.unique(sequence)\n",
    "    \n",
    "    return list(product(unique_e, repeat = 2))\n",
    "\n",
    "def find_highest_with_state_obs(prob_pairs, state, obs):\n",
    "    \n",
    "    for pp in prob_pairs:\n",
    "        if pp[0].count((state,obs))>0:\n",
    "            \n",
    "            return pp[1]\n",
    "        \n",
    "def normalize_emissions(b_tuple_format):\n",
    "    \n",
    "    new_b_dict = {}\n",
    "    \n",
    "    for key, val in b_tuple_format.items():\n",
    "        denominator = sum(val)\n",
    "        new_lst = [v/denominator for v in val]\n",
    "        new_b_dict[key] = tuple(new_lst)\n",
    "        \n",
    "    return new_b_dict\n",
    "\n",
    "make_emission_permutations([1,1,0, 2])\n",
    "make_emission_permutations([0,1,0,3,0])"
   ]
  },
  {
   "cell_type": "markdown",
   "metadata": {},
   "source": [
    "We update the emissions probabilities"
   ]
  },
  {
   "cell_type": "code",
   "execution_count": 48,
   "metadata": {},
   "outputs": [],
   "source": [
    "def emission_matrix_update(sequence, state_list, A, B, pi):\n",
    "    state_pairs = list(product(state_list, repeat = 2))\n",
    "    obs_pairs = observed_pairs(sequence)\n",
    "    \n",
    "    new_B = {}\n",
    "    for obs in np.unique(sequence): # For every unique emission\n",
    "        \n",
    "        # Find all the sequence-pairs that include that emission\n",
    "        inc_seq = [seq for seq in obs_pairs if seq.count(obs)>0]\n",
    "\n",
    "        # Collector for highest-probabilities\n",
    "        highest_pairs = []\n",
    "        \n",
    "        # For each sequence-pair that include that emission\n",
    "        for seq in inc_seq:\n",
    "\n",
    "            prob_pairs = []\n",
    "            \n",
    "            # Go through each potential pair of states\n",
    "            for state_pair in state_pairs:\n",
    "                \n",
    "                state1, state2 = state_pair\n",
    "                obs1, obs2 = seq\n",
    "                \n",
    "                # Match each state with it's emission\n",
    "                assoc_tuples = [(state1, obs1),\n",
    "                                (state2, obs2)]\n",
    "                \n",
    "                # Calculate the probability of the sequence from state\n",
    "                prob = pi[state1] * B[state1+\"_\"+str(obs1)]\n",
    "                prob *= A[state1+state2]*B[state2+\"_\"+str(obs2)]\n",
    "                prob = round(prob,5)\n",
    "                # Append the state emission tuples and probability\n",
    "                prob_pairs.append([assoc_tuples, prob])\n",
    "    \n",
    "            # Sort probabilities by maximum probability\n",
    "            prob_pairs = sorted(prob_pairs, key = lambda x: x[1], reverse = True)\n",
    "            \n",
    "            # Save the highest probability\n",
    "            to_add = {'highest':prob_pairs[0][1]}\n",
    "            # Find the highest probability where each state is associated\n",
    "            # With the current emission\n",
    "            for state in STATE_LIST:\n",
    "                \n",
    "                highest_of_state = 0\n",
    "                \n",
    "                # Go through sorted list, find first (state,observation) tuple\n",
    "                # save associated probability\n",
    "\n",
    "                for pp in prob_pairs:\n",
    "                    if pp[0].count((state,obs))>0:\n",
    "                        highest_of_state = pp[1]\n",
    "                        break\n",
    "                        \n",
    "                to_add[state] = highest_of_state\n",
    "            \n",
    "            # Save completed dictionary\n",
    "            highest_pairs.append(to_add)\n",
    "        \n",
    "        # Total highest_probability\n",
    "        highest_probability =sum([d['highest'] for d in highest_pairs])\n",
    "        \n",
    "        # Total highest probabilities for each state; divide by highest prob\n",
    "        # Add to new emission matrix\n",
    "        for state in STATE_LIST:\n",
    "            new_B[state+\"_\"+str(obs)]= sum([d[state] for d in highest_pairs])/highest_probability\n",
    "            \n",
    "        \n",
    "    return new_B"
   ]
  },
  {
   "cell_type": "code",
   "execution_count": 49,
   "metadata": {},
   "outputs": [
    {
     "data": {
      "text/plain": [
       "{'S1_0': 0.47605061556159334,\n",
       " 'S2_0': 1.0,\n",
       " 'S1_1': 0.9985815602836879,\n",
       " 'S2_1': 0.9914893617021275,\n",
       " 'S1_2': 0.9674200176108009,\n",
       " 'S2_2': 1.0,\n",
       " 'S1_3': 1.0,\n",
       " 'S2_3': 0.50093808630394,\n",
       " 'S1_4': 0.12074074074074062,\n",
       " 'S2_4': 1.0}"
      ]
     },
     "execution_count": 49,
     "metadata": {},
     "output_type": "execute_result"
    }
   ],
   "source": [
    "nb = emission_matrix_update(corn13_17_seq,STATE_LIST, A,B,pi)\n",
    "nb"
   ]
  },
  {
   "cell_type": "markdown",
   "metadata": {},
   "source": [
    "Normalize the updated emission probabilities"
   ]
  },
  {
   "cell_type": "code",
   "execution_count": 50,
   "metadata": {},
   "outputs": [],
   "source": [
    "B_ = obs_to_tuples(STATE_LIST, nb, corn13_17_seq)\n",
    "B_posterior = normalize_emissions(B_)"
   ]
  },
  {
   "cell_type": "code",
   "execution_count": 51,
   "metadata": {},
   "outputs": [
    {
     "data": {
      "text/plain": [
       "{'S1': (0.4602152515867919, 0.5397847484132082),\n",
       " 'S2': (0.3367172332093854, 0.6632827667906147)}"
      ]
     },
     "execution_count": 51,
     "metadata": {},
     "output_type": "execute_result"
    }
   ],
   "source": [
    "# normalized state transition posterior:\n",
    "A_posterior"
   ]
  },
  {
   "cell_type": "code",
   "execution_count": 52,
   "metadata": {},
   "outputs": [
    {
     "data": {
      "text/plain": [
       "{'S1': (0.13361725599944574,\n",
       "  0.2802805492003152,\n",
       "  0.27153416869254315,\n",
       "  0.28067867498042925,\n",
       "  0.03388935112726661),\n",
       " 'S2': (0.2225968057522761,\n",
       "  0.22070236485225672,\n",
       "  0.2225968057522761,\n",
       "  0.11150721789091506,\n",
       "  0.2225968057522761)}"
      ]
     },
     "execution_count": 52,
     "metadata": {},
     "output_type": "execute_result"
    }
   ],
   "source": [
    "# normalized emission posterior probabilities\n",
    "B_posterior"
   ]
  },
  {
   "cell_type": "markdown",
   "metadata": {},
   "source": [
    "## Repeat Until Parameters Converge"
   ]
  },
  {
   "cell_type": "code",
   "execution_count": 53,
   "metadata": {},
   "outputs": [
    {
     "data": {
      "text/plain": [
       "{1: ObservationData(prob_lst=[0.0145, 0.0134, 0.0125, 0.0194], highest_prob=[0.0194], highest_state=['S2S2']),\n",
       " 2: ObservationData(prob_lst=[0.0145, 0.0134, 0.0125, 0.0194], highest_prob=[0.0194], highest_state=['S2S2']),\n",
       " 3: ObservationData(prob_lst=[0.0145, 0.0134, 0.0125, 0.0194], highest_prob=[0.0194], highest_state=['S2S2']),\n",
       " 4: ObservationData(prob_lst=[0.0145, 0.0134, 0.0125, 0.0194], highest_prob=[0.0194], highest_state=['S2S2']),\n",
       " 5: ObservationData(prob_lst=[0.0145, 0.0134, 0.0125, 0.0194], highest_prob=[0.0194], highest_state=['S2S2']),\n",
       " 6: ObservationData(prob_lst=[0.0145, 0.0134, 0.0125, 0.0194], highest_prob=[0.0194], highest_state=['S2S2']),\n",
       " 7: ObservationData(prob_lst=[0.0145, 0.0134, 0.0125, 0.0194], highest_prob=[0.0194], highest_state=['S2S2']),\n",
       " 8: ObservationData(prob_lst=[0.0145, 0.0134, 0.0125, 0.0194], highest_prob=[0.0194], highest_state=['S2S2']),\n",
       " 9: ObservationData(prob_lst=[0.0145, 0.0134, 0.0125, 0.0194], highest_prob=[0.0194], highest_state=['S2S2']),\n",
       " 10: ObservationData(prob_lst=[0.0145, 0.0134, 0.0125, 0.0194], highest_prob=[0.0194], highest_state=['S2S2']),\n",
       " 11: ObservationData(prob_lst=[0.0145, 0.0134, 0.0125, 0.0194], highest_prob=[0.0194], highest_state=['S2S2']),\n",
       " 12: ObservationData(prob_lst=[0.0145, 0.0134, 0.0125, 0.0194], highest_prob=[0.0194], highest_state=['S2S2']),\n",
       " 13: ObservationData(prob_lst=[0.0145, 0.0134, 0.0125, 0.0194], highest_prob=[0.0194], highest_state=['S2S2']),\n",
       " 14: ObservationData(prob_lst=[0.0145, 0.0134, 0.0125, 0.0194], highest_prob=[0.0194], highest_state=['S2S2']),\n",
       " 15: ObservationData(prob_lst=[0.0145, 0.0134, 0.0125, 0.0194], highest_prob=[0.0194], highest_state=['S2S2']),\n",
       " 16: ObservationData(prob_lst=[0.0145, 0.0134, 0.0125, 0.0194], highest_prob=[0.0194], highest_state=['S2S2']),\n",
       " 17: ObservationData(prob_lst=[0.0145, 0.0134, 0.0125, 0.0194], highest_prob=[0.0194], highest_state=['S2S2']),\n",
       " 18: ObservationData(prob_lst=[0.0145, 0.0134, 0.0125, 0.0194], highest_prob=[0.0194], highest_state=['S2S2']),\n",
       " 19: ObservationData(prob_lst=[0.0145, 0.0134, 0.0125, 0.0194], highest_prob=[0.0194], highest_state=['S2S2']),\n",
       " 20: ObservationData(prob_lst=[0.0145, 0.0134, 0.0125, 0.0194], highest_prob=[0.0194], highest_state=['S2S2']),\n",
       " 21: ObservationData(prob_lst=[0.0145, 0.0134, 0.0125, 0.0194], highest_prob=[0.0194], highest_state=['S2S2']),\n",
       " 22: ObservationData(prob_lst=[0.0145, 0.0134, 0.0125, 0.0194], highest_prob=[0.0194], highest_state=['S2S2']),\n",
       " 23: ObservationData(prob_lst=[0.0145, 0.0134, 0.0125, 0.0194], highest_prob=[0.0194], highest_state=['S2S2']),\n",
       " 24: ObservationData(prob_lst=[0.0145, 0.0134, 0.0125, 0.0194], highest_prob=[0.0194], highest_state=['S2S2']),\n",
       " 25: ObservationData(prob_lst=[0.0145, 0.0134, 0.0125, 0.0194], highest_prob=[0.0194], highest_state=['S2S2']),\n",
       " 26: ObservationData(prob_lst=[0.014, 0.0135, 0.0121, 0.0196], highest_prob=[0.0196], highest_state=['S2S2']),\n",
       " 27: ObservationData(prob_lst=[0.014, 0.0129, 0.0126, 0.0196], highest_prob=[0.0196], highest_state=['S2S2']),\n",
       " 28: ObservationData(prob_lst=[0.014, 0.0135, 0.0121, 0.0196], highest_prob=[0.0196], highest_state=['S2S2']),\n",
       " 29: ObservationData(prob_lst=[0.0136, 0.0131, 0.0122, 0.0197], highest_prob=[0.0197], highest_state=['S2S2']),\n",
       " 30: ObservationData(prob_lst=[0.0136, 0.0131, 0.0122, 0.0197], highest_prob=[0.0197], highest_state=['S2S2']),\n",
       " 31: ObservationData(prob_lst=[0.0136, 0.0131, 0.0122, 0.0197], highest_prob=[0.0197], highest_state=['S2S2']),\n",
       " 32: ObservationData(prob_lst=[0.0136, 0.0131, 0.0122, 0.0197], highest_prob=[0.0197], highest_state=['S2S2']),\n",
       " 33: ObservationData(prob_lst=[0.0136, 0.0131, 0.0122, 0.0197], highest_prob=[0.0197], highest_state=['S2S2']),\n",
       " 34: ObservationData(prob_lst=[0.0136, 0.0131, 0.0122, 0.0197], highest_prob=[0.0197], highest_state=['S2S2']),\n",
       " 35: ObservationData(prob_lst=[0.0136, 0.0131, 0.0122, 0.0197], highest_prob=[0.0197], highest_state=['S2S2']),\n",
       " 36: ObservationData(prob_lst=[0.0136, 0.0131, 0.0122, 0.0197], highest_prob=[0.0197], highest_state=['S2S2']),\n",
       " 37: ObservationData(prob_lst=[0.0136, 0.0131, 0.0122, 0.0197], highest_prob=[0.0197], highest_state=['S2S2']),\n",
       " 38: ObservationData(prob_lst=[0.0136, 0.0131, 0.0122, 0.0197], highest_prob=[0.0197], highest_state=['S2S2']),\n",
       " 39: ObservationData(prob_lst=[0.0136, 0.0131, 0.0122, 0.0197], highest_prob=[0.0197], highest_state=['S2S2']),\n",
       " 40: ObservationData(prob_lst=[0.0136, 0.0131, 0.0122, 0.0197], highest_prob=[0.0197], highest_state=['S2S2']),\n",
       " 41: ObservationData(prob_lst=[0.0136, 0.0131, 0.0122, 0.0197], highest_prob=[0.0197], highest_state=['S2S2']),\n",
       " 42: ObservationData(prob_lst=[0.0136, 0.0131, 0.0122, 0.0197], highest_prob=[0.0197], highest_state=['S2S2']),\n",
       " 43: ObservationData(prob_lst=[0.0136, 0.0131, 0.0122, 0.0197], highest_prob=[0.0197], highest_state=['S2S2']),\n",
       " 44: ObservationData(prob_lst=[0.0136, 0.0131, 0.0122, 0.0197], highest_prob=[0.0197], highest_state=['S2S2']),\n",
       " 45: ObservationData(prob_lst=[0.0136, 0.0131, 0.0122, 0.0197], highest_prob=[0.0197], highest_state=['S2S2']),\n",
       " 46: ObservationData(prob_lst=[0.0136, 0.0131, 0.0122, 0.0197], highest_prob=[0.0197], highest_state=['S2S2']),\n",
       " 47: ObservationData(prob_lst=[0.0136, 0.0131, 0.0122, 0.0197], highest_prob=[0.0197], highest_state=['S2S2']),\n",
       " 48: ObservationData(prob_lst=[0.0136, 0.0131, 0.0122, 0.0197], highest_prob=[0.0197], highest_state=['S2S2']),\n",
       " 49: ObservationData(prob_lst=[0.0136, 0.0131, 0.0122, 0.0197], highest_prob=[0.0197], highest_state=['S2S2']),\n",
       " 50: ObservationData(prob_lst=[0.0136, 0.0131, 0.0122, 0.0197], highest_prob=[0.0197], highest_state=['S2S2']),\n",
       " 51: ObservationData(prob_lst=[0.0136, 0.0131, 0.0122, 0.0197], highest_prob=[0.0197], highest_state=['S2S2']),\n",
       " 52: ObservationData(prob_lst=[0.0136, 0.0131, 0.0122, 0.0197], highest_prob=[0.0197], highest_state=['S2S2']),\n",
       " 53: ObservationData(prob_lst=[0.0136, 0.0131, 0.0122, 0.0197], highest_prob=[0.0197], highest_state=['S2S2']),\n",
       " 54: ObservationData(prob_lst=[0.0136, 0.0131, 0.0122, 0.0197], highest_prob=[0.0197], highest_state=['S2S2']),\n",
       " 55: ObservationData(prob_lst=[0.0136, 0.0131, 0.0122, 0.0197], highest_prob=[0.0197], highest_state=['S2S2']),\n",
       " 56: ObservationData(prob_lst=[0.0136, 0.0131, 0.0122, 0.0197], highest_prob=[0.0197], highest_state=['S2S2']),\n",
       " 57: ObservationData(prob_lst=[0.0136, 0.0131, 0.0122, 0.0197], highest_prob=[0.0197], highest_state=['S2S2']),\n",
       " 58: ObservationData(prob_lst=[0.0136, 0.0131, 0.0122, 0.0197], highest_prob=[0.0197], highest_state=['S2S2']),\n",
       " 59: ObservationData(prob_lst=[0.0136, 0.0131, 0.0122, 0.0197], highest_prob=[0.0197], highest_state=['S2S2']),\n",
       " 60: ObservationData(prob_lst=[0.0136, 0.0131, 0.0122, 0.0197], highest_prob=[0.0197], highest_state=['S2S2']),\n",
       " 61: ObservationData(prob_lst=[0.0136, 0.0131, 0.0122, 0.0197], highest_prob=[0.0197], highest_state=['S2S2']),\n",
       " 62: ObservationData(prob_lst=[0.0136, 0.0131, 0.0122, 0.0197], highest_prob=[0.0197], highest_state=['S2S2']),\n",
       " 63: ObservationData(prob_lst=[0.0136, 0.0131, 0.0122, 0.0197], highest_prob=[0.0197], highest_state=['S2S2']),\n",
       " 64: ObservationData(prob_lst=[0.0136, 0.0131, 0.0122, 0.0197], highest_prob=[0.0197], highest_state=['S2S2']),\n",
       " 65: ObservationData(prob_lst=[0.0136, 0.0131, 0.0122, 0.0197], highest_prob=[0.0197], highest_state=['S2S2']),\n",
       " 66: ObservationData(prob_lst=[0.0136, 0.0131, 0.0122, 0.0197], highest_prob=[0.0197], highest_state=['S2S2']),\n",
       " 67: ObservationData(prob_lst=[0.0136, 0.0131, 0.0122, 0.0197], highest_prob=[0.0197], highest_state=['S2S2']),\n",
       " 68: ObservationData(prob_lst=[0.0136, 0.0131, 0.0122, 0.0197], highest_prob=[0.0197], highest_state=['S2S2']),\n",
       " 69: ObservationData(prob_lst=[0.0136, 0.0131, 0.0122, 0.0197], highest_prob=[0.0197], highest_state=['S2S2']),\n",
       " 70: ObservationData(prob_lst=[0.0136, 0.0131, 0.0122, 0.0197], highest_prob=[0.0197], highest_state=['S2S2']),\n",
       " 71: ObservationData(prob_lst=[0.0136, 0.0131, 0.0122, 0.0197], highest_prob=[0.0197], highest_state=['S2S2']),\n",
       " 72: ObservationData(prob_lst=[0.0136, 0.0131, 0.0122, 0.0197], highest_prob=[0.0197], highest_state=['S2S2']),\n",
       " 73: ObservationData(prob_lst=[0.0136, 0.0131, 0.0122, 0.0197], highest_prob=[0.0197], highest_state=['S2S2']),\n",
       " 74: ObservationData(prob_lst=[0.0136, 0.0131, 0.0122, 0.0197], highest_prob=[0.0197], highest_state=['S2S2']),\n",
       " 75: ObservationData(prob_lst=[0.0136, 0.0131, 0.0122, 0.0197], highest_prob=[0.0197], highest_state=['S2S2']),\n",
       " 76: ObservationData(prob_lst=[0.0136, 0.0131, 0.0122, 0.0197], highest_prob=[0.0197], highest_state=['S2S2']),\n",
       " 77: ObservationData(prob_lst=[0.0136, 0.0131, 0.0122, 0.0197], highest_prob=[0.0197], highest_state=['S2S2']),\n",
       " 78: ObservationData(prob_lst=[0.0067, 0.0131, 0.006, 0.0197], highest_prob=[0.0197], highest_state=['S2S2']),\n",
       " 79: ObservationData(prob_lst=[0.0033, 0.0064, 0.006, 0.0197], highest_prob=[0.0197], highest_state=['S2S2']),\n",
       " 80: ObservationData(prob_lst=[0.0033, 0.0064, 0.006, 0.0197], highest_prob=[0.0197], highest_state=['S2S2']),\n",
       " 81: ObservationData(prob_lst=[0.0033, 0.0064, 0.006, 0.0197], highest_prob=[0.0197], highest_state=['S2S2']),\n",
       " 82: ObservationData(prob_lst=[0.0033, 0.0064, 0.006, 0.0197], highest_prob=[0.0197], highest_state=['S2S2']),\n",
       " 83: ObservationData(prob_lst=[0.0033, 0.0064, 0.006, 0.0197], highest_prob=[0.0197], highest_state=['S2S2']),\n",
       " 84: ObservationData(prob_lst=[0.0033, 0.0064, 0.006, 0.0197], highest_prob=[0.0197], highest_state=['S2S2']),\n",
       " 85: ObservationData(prob_lst=[0.0033, 0.0064, 0.006, 0.0197], highest_prob=[0.0197], highest_state=['S2S2']),\n",
       " 86: ObservationData(prob_lst=[0.0033, 0.0064, 0.006, 0.0197], highest_prob=[0.0197], highest_state=['S2S2']),\n",
       " 87: ObservationData(prob_lst=[0.0033, 0.0064, 0.006, 0.0197], highest_prob=[0.0197], highest_state=['S2S2']),\n",
       " 88: ObservationData(prob_lst=[0.0008, 0.0064, 0.0015, 0.0197], highest_prob=[0.0197], highest_state=['S2S2']),\n",
       " 89: ObservationData(prob_lst=[0.0002, 0.0016, 0.0015, 0.0197], highest_prob=[0.0197], highest_state=['S2S2']),\n",
       " 90: ObservationData(prob_lst=[0.0002, 0.0016, 0.0015, 0.0197], highest_prob=[0.0197], highest_state=['S2S2']),\n",
       " 91: ObservationData(prob_lst=[0.0002, 0.0016, 0.0015, 0.0197], highest_prob=[0.0197], highest_state=['S2S2']),\n",
       " 92: ObservationData(prob_lst=[0.0002, 0.0016, 0.0015, 0.0197], highest_prob=[0.0197], highest_state=['S2S2']),\n",
       " 93: ObservationData(prob_lst=[0.0002, 0.0016, 0.0015, 0.0197], highest_prob=[0.0197], highest_state=['S2S2']),\n",
       " 94: ObservationData(prob_lst=[0.0008, 0.0016, 0.006, 0.0197], highest_prob=[0.0197], highest_state=['S2S2']),\n",
       " 95: ObservationData(prob_lst=[0.0033, 0.0064, 0.006, 0.0197], highest_prob=[0.0197], highest_state=['S2S2']),\n",
       " 96: ObservationData(prob_lst=[0.0033, 0.0064, 0.006, 0.0197], highest_prob=[0.0197], highest_state=['S2S2']),\n",
       " 97: ObservationData(prob_lst=[0.0033, 0.0064, 0.006, 0.0197], highest_prob=[0.0197], highest_state=['S2S2']),\n",
       " 98: ObservationData(prob_lst=[0.0033, 0.0064, 0.006, 0.0197], highest_prob=[0.0197], highest_state=['S2S2']),\n",
       " 99: ObservationData(prob_lst=[0.0033, 0.0064, 0.006, 0.0197], highest_prob=[0.0197], highest_state=['S2S2']),\n",
       " 100: ObservationData(prob_lst=[0.0033, 0.0064, 0.006, 0.0197], highest_prob=[0.0197], highest_state=['S2S2']),\n",
       " 101: ObservationData(prob_lst=[0.0033, 0.0064, 0.006, 0.0197], highest_prob=[0.0197], highest_state=['S2S2']),\n",
       " 102: ObservationData(prob_lst=[0.0033, 0.0064, 0.006, 0.0197], highest_prob=[0.0197], highest_state=['S2S2']),\n",
       " 103: ObservationData(prob_lst=[0.0033, 0.0064, 0.006, 0.0197], highest_prob=[0.0197], highest_state=['S2S2']),\n",
       " 104: ObservationData(prob_lst=[0.0033, 0.0064, 0.006, 0.0197], highest_prob=[0.0197], highest_state=['S2S2']),\n",
       " 105: ObservationData(prob_lst=[0.0033, 0.0064, 0.006, 0.0197], highest_prob=[0.0197], highest_state=['S2S2']),\n",
       " 106: ObservationData(prob_lst=[0.0033, 0.0064, 0.006, 0.0197], highest_prob=[0.0197], highest_state=['S2S2']),\n",
       " 107: ObservationData(prob_lst=[0.0033, 0.0064, 0.006, 0.0197], highest_prob=[0.0197], highest_state=['S2S2']),\n",
       " 108: ObservationData(prob_lst=[0.0033, 0.0064, 0.006, 0.0197], highest_prob=[0.0197], highest_state=['S2S2']),\n",
       " 109: ObservationData(prob_lst=[0.0033, 0.0064, 0.006, 0.0197], highest_prob=[0.0197], highest_state=['S2S2']),\n",
       " 110: ObservationData(prob_lst=[0.0033, 0.0064, 0.006, 0.0197], highest_prob=[0.0197], highest_state=['S2S2']),\n",
       " 111: ObservationData(prob_lst=[0.0033, 0.0064, 0.006, 0.0197], highest_prob=[0.0197], highest_state=['S2S2']),\n",
       " 112: ObservationData(prob_lst=[0.0033, 0.0064, 0.006, 0.0197], highest_prob=[0.0197], highest_state=['S2S2']),\n",
       " 113: ObservationData(prob_lst=[0.0033, 0.0064, 0.006, 0.0197], highest_prob=[0.0197], highest_state=['S2S2']),\n",
       " 114: ObservationData(prob_lst=[0.0033, 0.0064, 0.006, 0.0197], highest_prob=[0.0197], highest_state=['S2S2']),\n",
       " 115: ObservationData(prob_lst=[0.0033, 0.0064, 0.006, 0.0197], highest_prob=[0.0197], highest_state=['S2S2']),\n",
       " 116: ObservationData(prob_lst=[0.0033, 0.0064, 0.006, 0.0197], highest_prob=[0.0197], highest_state=['S2S2']),\n",
       " 117: ObservationData(prob_lst=[0.0033, 0.0064, 0.006, 0.0197], highest_prob=[0.0197], highest_state=['S2S2']),\n",
       " 118: ObservationData(prob_lst=[0.0033, 0.0064, 0.006, 0.0197], highest_prob=[0.0197], highest_state=['S2S2']),\n",
       " 119: ObservationData(prob_lst=[0.0033, 0.0064, 0.006, 0.0197], highest_prob=[0.0197], highest_state=['S2S2']),\n",
       " 120: ObservationData(prob_lst=[0.0008, 0.0064, 0.0015, 0.0197], highest_prob=[0.0197], highest_state=['S2S2']),\n",
       " 121: ObservationData(prob_lst=[0.0002, 0.0016, 0.0015, 0.0197], highest_prob=[0.0197], highest_state=['S2S2']),\n",
       " 122: ObservationData(prob_lst=[0.0002, 0.0016, 0.0015, 0.0197], highest_prob=[0.0197], highest_state=['S2S2']),\n",
       " 123: ObservationData(prob_lst=[0.0002, 0.0016, 0.0015, 0.0197], highest_prob=[0.0197], highest_state=['S2S2']),\n",
       " 124: ObservationData(prob_lst=[0.0002, 0.0016, 0.0015, 0.0197], highest_prob=[0.0197], highest_state=['S2S2']),\n",
       " 125: ObservationData(prob_lst=[0.0002, 0.0016, 0.0015, 0.0197], highest_prob=[0.0197], highest_state=['S2S2']),\n",
       " 126: ObservationData(prob_lst=[0.0002, 0.0016, 0.0015, 0.0197], highest_prob=[0.0197], highest_state=['S2S2']),\n",
       " 127: ObservationData(prob_lst=[0.0002, 0.0016, 0.0015, 0.0197], highest_prob=[0.0197], highest_state=['S2S2']),\n",
       " 128: ObservationData(prob_lst=[0.0002, 0.0016, 0.0015, 0.0197], highest_prob=[0.0197], highest_state=['S2S2']),\n",
       " 129: ObservationData(prob_lst=[0.0002, 0.0016, 0.0015, 0.0197], highest_prob=[0.0197], highest_state=['S2S2']),\n",
       " 130: ObservationData(prob_lst=[0.0008, 0.0016, 0.006, 0.0197], highest_prob=[0.0197], highest_state=['S2S2']),\n",
       " 131: ObservationData(prob_lst=[0.0033, 0.0064, 0.006, 0.0197], highest_prob=[0.0197], highest_state=['S2S2']),\n",
       " 132: ObservationData(prob_lst=[0.0033, 0.0064, 0.006, 0.0197], highest_prob=[0.0197], highest_state=['S2S2']),\n",
       " 133: ObservationData(prob_lst=[0.0033, 0.0064, 0.006, 0.0197], highest_prob=[0.0197], highest_state=['S2S2']),\n",
       " 134: ObservationData(prob_lst=[0.0008, 0.0064, 0.0015, 0.0197], highest_prob=[0.0197], highest_state=['S2S2']),\n",
       " 135: ObservationData(prob_lst=[0.0002, 0.0016, 0.0015, 0.0197], highest_prob=[0.0197], highest_state=['S2S2']),\n",
       " 136: ObservationData(prob_lst=[0.0002, 0.0016, 0.0015, 0.0197], highest_prob=[0.0197], highest_state=['S2S2']),\n",
       " 137: ObservationData(prob_lst=[0.0002, 0.0016, 0.0015, 0.0197], highest_prob=[0.0197], highest_state=['S2S2']),\n",
       " 138: ObservationData(prob_lst=[0.0002, 0.0016, 0.0015, 0.0197], highest_prob=[0.0197], highest_state=['S2S2']),\n",
       " 139: ObservationData(prob_lst=[0.0002, 0.0016, 0.0015, 0.0197], highest_prob=[0.0197], highest_state=['S2S2']),\n",
       " 140: ObservationData(prob_lst=[0.0002, 0.0016, 0.0015, 0.0197], highest_prob=[0.0197], highest_state=['S2S2']),\n",
       " 141: ObservationData(prob_lst=[0.0002, 0.0016, 0.0015, 0.0197], highest_prob=[0.0197], highest_state=['S2S2']),\n",
       " 142: ObservationData(prob_lst=[0.0002, 0.0016, 0.0015, 0.0197], highest_prob=[0.0197], highest_state=['S2S2']),\n",
       " 143: ObservationData(prob_lst=[0.0002, 0.0016, 0.0015, 0.0197], highest_prob=[0.0197], highest_state=['S2S2']),\n",
       " 144: ObservationData(prob_lst=[0.0002, 0.0016, 0.0015, 0.0197], highest_prob=[0.0197], highest_state=['S2S2']),\n",
       " 145: ObservationData(prob_lst=[0.0002, 0.0016, 0.0015, 0.0197], highest_prob=[0.0197], highest_state=['S2S2']),\n",
       " 146: ObservationData(prob_lst=[0.0002, 0.0016, 0.0015, 0.0197], highest_prob=[0.0197], highest_state=['S2S2']),\n",
       " 147: ObservationData(prob_lst=[0.0002, 0.0016, 0.0015, 0.0197], highest_prob=[0.0197], highest_state=['S2S2']),\n",
       " 148: ObservationData(prob_lst=[0.0002, 0.0016, 0.0015, 0.0197], highest_prob=[0.0197], highest_state=['S2S2']),\n",
       " 149: ObservationData(prob_lst=[0.0002, 0.0016, 0.0015, 0.0197], highest_prob=[0.0197], highest_state=['S2S2']),\n",
       " 150: ObservationData(prob_lst=[0.0002, 0.0016, 0.0015, 0.0197], highest_prob=[0.0197], highest_state=['S2S2']),\n",
       " 151: ObservationData(prob_lst=[0.0002, 0.0016, 0.0015, 0.0197], highest_prob=[0.0197], highest_state=['S2S2']),\n",
       " 152: ObservationData(prob_lst=[0.0002, 0.0016, 0.0015, 0.0197], highest_prob=[0.0197], highest_state=['S2S2']),\n",
       " 153: ObservationData(prob_lst=[0.0002, 0.0016, 0.0015, 0.0197], highest_prob=[0.0197], highest_state=['S2S2']),\n",
       " 154: ObservationData(prob_lst=[0.0002, 0.0016, 0.0015, 0.0197], highest_prob=[0.0197], highest_state=['S2S2']),\n",
       " 155: ObservationData(prob_lst=[0.0002, 0.0016, 0.0015, 0.0197], highest_prob=[0.0197], highest_state=['S2S2']),\n",
       " 156: ObservationData(prob_lst=[0.0002, 0.0016, 0.0015, 0.0197], highest_prob=[0.0197], highest_state=['S2S2']),\n",
       " 157: ObservationData(prob_lst=[0.0002, 0.0016, 0.0015, 0.0197], highest_prob=[0.0197], highest_state=['S2S2']),\n",
       " 158: ObservationData(prob_lst=[0.0002, 0.0016, 0.0015, 0.0197], highest_prob=[0.0197], highest_state=['S2S2']),\n",
       " 159: ObservationData(prob_lst=[0.0002, 0.0016, 0.0015, 0.0197], highest_prob=[0.0197], highest_state=['S2S2']),\n",
       " 160: ObservationData(prob_lst=[0.0002, 0.0016, 0.0015, 0.0197], highest_prob=[0.0197], highest_state=['S2S2']),\n",
       " 161: ObservationData(prob_lst=[0.0002, 0.0016, 0.0015, 0.0197], highest_prob=[0.0197], highest_state=['S2S2']),\n",
       " 162: ObservationData(prob_lst=[0.0002, 0.0016, 0.0015, 0.0197], highest_prob=[0.0197], highest_state=['S2S2']),\n",
       " 163: ObservationData(prob_lst=[0.0002, 0.0016, 0.0015, 0.0197], highest_prob=[0.0197], highest_state=['S2S2']),\n",
       " 164: ObservationData(prob_lst=[0.0002, 0.0016, 0.0015, 0.0197], highest_prob=[0.0197], highest_state=['S2S2']),\n",
       " 165: ObservationData(prob_lst=[0.0002, 0.0016, 0.0015, 0.0197], highest_prob=[0.0197], highest_state=['S2S2']),\n",
       " 166: ObservationData(prob_lst=[0.0002, 0.0016, 0.0015, 0.0197], highest_prob=[0.0197], highest_state=['S2S2']),\n",
       " 167: ObservationData(prob_lst=[0.0002, 0.0016, 0.0015, 0.0197], highest_prob=[0.0197], highest_state=['S2S2']),\n",
       " 168: ObservationData(prob_lst=[0.0002, 0.0016, 0.0015, 0.0197], highest_prob=[0.0197], highest_state=['S2S2']),\n",
       " 169: ObservationData(prob_lst=[0.0002, 0.0016, 0.0015, 0.0197], highest_prob=[0.0197], highest_state=['S2S2']),\n",
       " 170: ObservationData(prob_lst=[0.0002, 0.0016, 0.0015, 0.0197], highest_prob=[0.0197], highest_state=['S2S2']),\n",
       " 171: ObservationData(prob_lst=[0.0002, 0.0016, 0.0015, 0.0197], highest_prob=[0.0197], highest_state=['S2S2']),\n",
       " 172: ObservationData(prob_lst=[0.0002, 0.0016, 0.0015, 0.0197], highest_prob=[0.0197], highest_state=['S2S2']),\n",
       " 173: ObservationData(prob_lst=[0.0002, 0.0016, 0.0015, 0.0197], highest_prob=[0.0197], highest_state=['S2S2']),\n",
       " 174: ObservationData(prob_lst=[0.0002, 0.0016, 0.0015, 0.0197], highest_prob=[0.0197], highest_state=['S2S2']),\n",
       " 175: ObservationData(prob_lst=[0.0002, 0.0016, 0.0015, 0.0197], highest_prob=[0.0197], highest_state=['S2S2']),\n",
       " 176: ObservationData(prob_lst=[0.0002, 0.0016, 0.0015, 0.0197], highest_prob=[0.0197], highest_state=['S2S2']),\n",
       " 177: ObservationData(prob_lst=[0.0002, 0.0016, 0.0015, 0.0197], highest_prob=[0.0197], highest_state=['S2S2']),\n",
       " 178: ObservationData(prob_lst=[0.0008, 0.0016, 0.006, 0.0197], highest_prob=[0.0197], highest_state=['S2S2']),\n",
       " 179: ObservationData(prob_lst=[0.0033, 0.0064, 0.006, 0.0197], highest_prob=[0.0197], highest_state=['S2S2']),\n",
       " 180: ObservationData(prob_lst=[0.0033, 0.0064, 0.006, 0.0197], highest_prob=[0.0197], highest_state=['S2S2']),\n",
       " 181: ObservationData(prob_lst=[0.0008, 0.0064, 0.0015, 0.0197], highest_prob=[0.0197], highest_state=['S2S2']),\n",
       " 182: ObservationData(prob_lst=[0.0002, 0.0016, 0.0015, 0.0197], highest_prob=[0.0197], highest_state=['S2S2']),\n",
       " 183: ObservationData(prob_lst=[0.0018, 0.0008, 0.0126, 0.0099], highest_prob=[0.0126], highest_state=['S2S1']),\n",
       " 184: ObservationData(prob_lst=[0.0145, 0.0068, 0.0063, 0.0049], highest_prob=[0.0145], highest_state=['S1S1']),\n",
       " 185: ObservationData(prob_lst=[0.0145, 0.0068, 0.0063, 0.0049], highest_prob=[0.0145], highest_state=['S1S1']),\n",
       " 186: ObservationData(prob_lst=[0.0145, 0.0068, 0.0063, 0.0049], highest_prob=[0.0145], highest_state=['S1S1']),\n",
       " 187: ObservationData(prob_lst=[0.0145, 0.0068, 0.0063, 0.0049], highest_prob=[0.0145], highest_state=['S1S1']),\n",
       " 188: ObservationData(prob_lst=[0.0145, 0.0068, 0.0063, 0.0049], highest_prob=[0.0145], highest_state=['S1S1']),\n",
       " 189: ObservationData(prob_lst=[0.0145, 0.0068, 0.0063, 0.0049], highest_prob=[0.0145], highest_state=['S1S1']),\n",
       " 190: ObservationData(prob_lst=[0.0145, 0.0068, 0.0063, 0.0049], highest_prob=[0.0145], highest_state=['S1S1']),\n",
       " 191: ObservationData(prob_lst=[0.0145, 0.0068, 0.0063, 0.0049], highest_prob=[0.0145], highest_state=['S1S1']),\n",
       " 192: ObservationData(prob_lst=[0.0145, 0.0068, 0.0063, 0.0049], highest_prob=[0.0145], highest_state=['S1S1']),\n",
       " 193: ObservationData(prob_lst=[0.0145, 0.0068, 0.0063, 0.0049], highest_prob=[0.0145], highest_state=['S1S1']),\n",
       " 194: ObservationData(prob_lst=[0.0145, 0.0068, 0.0063, 0.0049], highest_prob=[0.0145], highest_state=['S1S1']),\n",
       " 195: ObservationData(prob_lst=[0.0145, 0.0068, 0.0063, 0.0049], highest_prob=[0.0145], highest_state=['S1S1']),\n",
       " 196: ObservationData(prob_lst=[0.0145, 0.0068, 0.0063, 0.0049], highest_prob=[0.0145], highest_state=['S1S1']),\n",
       " 197: ObservationData(prob_lst=[0.0145, 0.0068, 0.0063, 0.0049], highest_prob=[0.0145], highest_state=['S1S1']),\n",
       " 198: ObservationData(prob_lst=[0.0145, 0.0068, 0.0063, 0.0049], highest_prob=[0.0145], highest_state=['S1S1']),\n",
       " 199: ObservationData(prob_lst=[0.0145, 0.0068, 0.0063, 0.0049], highest_prob=[0.0145], highest_state=['S1S1']),\n",
       " 200: ObservationData(prob_lst=[0.0145, 0.0068, 0.0063, 0.0049], highest_prob=[0.0145], highest_state=['S1S1']),\n",
       " 201: ObservationData(prob_lst=[0.0145, 0.0068, 0.0063, 0.0049], highest_prob=[0.0145], highest_state=['S1S1']),\n",
       " 202: ObservationData(prob_lst=[0.0145, 0.0068, 0.0063, 0.0049], highest_prob=[0.0145], highest_state=['S1S1']),\n",
       " 203: ObservationData(prob_lst=[0.0145, 0.0068, 0.0063, 0.0049], highest_prob=[0.0145], highest_state=['S1S1']),\n",
       " 204: ObservationData(prob_lst=[0.0145, 0.0068, 0.0063, 0.0049], highest_prob=[0.0145], highest_state=['S1S1']),\n",
       " 205: ObservationData(prob_lst=[0.0145, 0.0068, 0.0063, 0.0049], highest_prob=[0.0145], highest_state=['S1S1']),\n",
       " 206: ObservationData(prob_lst=[0.0145, 0.0068, 0.0063, 0.0049], highest_prob=[0.0145], highest_state=['S1S1']),\n",
       " 207: ObservationData(prob_lst=[0.0145, 0.0068, 0.0063, 0.0049], highest_prob=[0.0145], highest_state=['S1S1']),\n",
       " 208: ObservationData(prob_lst=[0.0145, 0.0068, 0.0063, 0.0049], highest_prob=[0.0145], highest_state=['S1S1']),\n",
       " 209: ObservationData(prob_lst=[0.0145, 0.0068, 0.0063, 0.0049], highest_prob=[0.0145], highest_state=['S1S1']),\n",
       " 210: ObservationData(prob_lst=[0.0145, 0.0068, 0.0063, 0.0049], highest_prob=[0.0145], highest_state=['S1S1']),\n",
       " 211: ObservationData(prob_lst=[0.0145, 0.0068, 0.0063, 0.0049], highest_prob=[0.0145], highest_state=['S1S1']),\n",
       " 212: ObservationData(prob_lst=[0.0145, 0.0068, 0.0063, 0.0049], highest_prob=[0.0145], highest_state=['S1S1']),\n",
       " 213: ObservationData(prob_lst=[0.0145, 0.0068, 0.0063, 0.0049], highest_prob=[0.0145], highest_state=['S1S1']),\n",
       " 214: ObservationData(prob_lst=[0.0145, 0.0068, 0.0063, 0.0049], highest_prob=[0.0145], highest_state=['S1S1']),\n",
       " 215: ObservationData(prob_lst=[0.0145, 0.0068, 0.0063, 0.0049], highest_prob=[0.0145], highest_state=['S1S1']),\n",
       " 216: ObservationData(prob_lst=[0.0145, 0.0068, 0.0063, 0.0049], highest_prob=[0.0145], highest_state=['S1S1']),\n",
       " 217: ObservationData(prob_lst=[0.0145, 0.0068, 0.0063, 0.0049], highest_prob=[0.0145], highest_state=['S1S1']),\n",
       " 218: ObservationData(prob_lst=[0.0145, 0.0068, 0.0063, 0.0049], highest_prob=[0.0145], highest_state=['S1S1']),\n",
       " 219: ObservationData(prob_lst=[0.0145, 0.0068, 0.0063, 0.0049], highest_prob=[0.0145], highest_state=['S1S1']),\n",
       " 220: ObservationData(prob_lst=[0.0145, 0.0068, 0.0063, 0.0049], highest_prob=[0.0145], highest_state=['S1S1']),\n",
       " 221: ObservationData(prob_lst=[0.0145, 0.0068, 0.0063, 0.0049], highest_prob=[0.0145], highest_state=['S1S1']),\n",
       " 222: ObservationData(prob_lst=[0.0145, 0.0068, 0.0063, 0.0049], highest_prob=[0.0145], highest_state=['S1S1']),\n",
       " 223: ObservationData(prob_lst=[0.0145, 0.0068, 0.0063, 0.0049], highest_prob=[0.0145], highest_state=['S1S1']),\n",
       " 224: ObservationData(prob_lst=[0.0145, 0.0068, 0.0063, 0.0049], highest_prob=[0.0145], highest_state=['S1S1']),\n",
       " 225: ObservationData(prob_lst=[0.0145, 0.0068, 0.0063, 0.0049], highest_prob=[0.0145], highest_state=['S1S1']),\n",
       " 226: ObservationData(prob_lst=[0.0145, 0.0068, 0.0063, 0.0049], highest_prob=[0.0145], highest_state=['S1S1']),\n",
       " 227: ObservationData(prob_lst=[0.0145, 0.0068, 0.0063, 0.0049], highest_prob=[0.0145], highest_state=['S1S1']),\n",
       " 228: ObservationData(prob_lst=[0.0145, 0.0068, 0.0063, 0.0049], highest_prob=[0.0145], highest_state=['S1S1']),\n",
       " 229: ObservationData(prob_lst=[0.0145, 0.0068, 0.0063, 0.0049], highest_prob=[0.0145], highest_state=['S1S1']),\n",
       " 230: ObservationData(prob_lst=[0.0145, 0.0068, 0.0063, 0.0049], highest_prob=[0.0145], highest_state=['S1S1']),\n",
       " 231: ObservationData(prob_lst=[0.0145, 0.0068, 0.0063, 0.0049], highest_prob=[0.0145], highest_state=['S1S1']),\n",
       " 232: ObservationData(prob_lst=[0.0145, 0.0068, 0.0063, 0.0049], highest_prob=[0.0145], highest_state=['S1S1']),\n",
       " 233: ObservationData(prob_lst=[0.0145, 0.0068, 0.0063, 0.0049], highest_prob=[0.0145], highest_state=['S1S1']),\n",
       " 234: ObservationData(prob_lst=[0.0145, 0.0068, 0.0063, 0.0049], highest_prob=[0.0145], highest_state=['S1S1']),\n",
       " 235: ObservationData(prob_lst=[0.0145, 0.0068, 0.0063, 0.0049], highest_prob=[0.0145], highest_state=['S1S1']),\n",
       " 236: ObservationData(prob_lst=[0.0145, 0.0068, 0.0063, 0.0049], highest_prob=[0.0145], highest_state=['S1S1']),\n",
       " 237: ObservationData(prob_lst=[0.0145, 0.0068, 0.0063, 0.0049], highest_prob=[0.0145], highest_state=['S1S1']),\n",
       " 238: ObservationData(prob_lst=[0.0145, 0.0068, 0.0063, 0.0049], highest_prob=[0.0145], highest_state=['S1S1']),\n",
       " 239: ObservationData(prob_lst=[0.0145, 0.0068, 0.0063, 0.0049], highest_prob=[0.0145], highest_state=['S1S1']),\n",
       " 240: ObservationData(prob_lst=[0.0145, 0.0068, 0.0063, 0.0049], highest_prob=[0.0145], highest_state=['S1S1']),\n",
       " 241: ObservationData(prob_lst=[0.0145, 0.0068, 0.0063, 0.0049], highest_prob=[0.0145], highest_state=['S1S1']),\n",
       " 242: ObservationData(prob_lst=[0.0145, 0.0068, 0.0063, 0.0049], highest_prob=[0.0145], highest_state=['S1S1']),\n",
       " 243: ObservationData(prob_lst=[0.0145, 0.0068, 0.0063, 0.0049], highest_prob=[0.0145], highest_state=['S1S1']),\n",
       " 244: ObservationData(prob_lst=[0.0145, 0.0068, 0.0063, 0.0049], highest_prob=[0.0145], highest_state=['S1S1']),\n",
       " 245: ObservationData(prob_lst=[0.0145, 0.0068, 0.0063, 0.0049], highest_prob=[0.0145], highest_state=['S1S1']),\n",
       " 246: ObservationData(prob_lst=[0.0145, 0.0068, 0.0063, 0.0049], highest_prob=[0.0145], highest_state=['S1S1']),\n",
       " 247: ObservationData(prob_lst=[0.0145, 0.0068, 0.0063, 0.0049], highest_prob=[0.0145], highest_state=['S1S1'])}"
      ]
     },
     "execution_count": 53,
     "metadata": {},
     "output_type": "execute_result"
    }
   ],
   "source": [
    "ob_prob2, A2, B2, pi2 = calculate_probabilities(STATE_LIST, corn13_17_seq, A=A_posterior, B=B_posterior, pi=pi)\n",
    "ob_prob2"
   ]
  },
  {
   "cell_type": "code",
   "execution_count": 54,
   "metadata": {},
   "outputs": [
    {
     "data": {
      "text/plain": [
       "{'S1': (0.4602152515867919, 0.5397847484132082),\n",
       " 'S2': (0.3367172332093854, 0.6632827667906147)}"
      ]
     },
     "execution_count": 54,
     "metadata": {},
     "output_type": "execute_result"
    }
   ],
   "source": [
    "# update and normalize state transition matrix again\n",
    "A_post2 = new_state_trans(STATE_LIST, ob_prob2)  \n",
    "# convert to `key: tuple` format\n",
    "A_post2 = dict_to_tuples(STATE_LIST, A2)  \n",
    "A_post2"
   ]
  },
  {
   "cell_type": "code",
   "execution_count": 55,
   "metadata": {},
   "outputs": [
    {
     "data": {
      "text/plain": [
       "{'S1': (0.11428246205333821,\n",
       "  0.26164105059540205,\n",
       "  0.24272670502233154,\n",
       "  0.3521679593360904,\n",
       "  0.02918182299283783),\n",
       " 'S2': (0.22369084423305585,\n",
       "  0.22369084423305585,\n",
       "  0.22369084423305585,\n",
       "  0.10523662306777645,\n",
       "  0.22369084423305585)}"
      ]
     },
     "execution_count": 55,
     "metadata": {},
     "output_type": "execute_result"
    }
   ],
   "source": [
    "# update emissions matrix again\n",
    "nb2 = emission_matrix_update(corn13_17_seq, STATE_LIST, A2, B2, pi)  # update emissions matrix again\n",
    "B_post2 = obs_to_tuples(STATE_LIST, nb2, corn13_17_seq)  # convert emission posterior to `key:tuples` format\n",
    "B_post2 = normalize_emissions(B_post2)  # normalize emissions probabilities\n",
    "B_post2"
   ]
  },
  {
   "cell_type": "code",
   "execution_count": null,
   "metadata": {},
   "outputs": [],
   "source": []
  }
 ],
 "metadata": {
  "kernelspec": {
   "display_name": "Python 3",
   "language": "python",
   "name": "python3"
  },
  "language_info": {
   "codemirror_mode": {
    "name": "ipython",
    "version": 3
   },
   "file_extension": ".py",
   "mimetype": "text/x-python",
   "name": "python",
   "nbconvert_exporter": "python",
   "pygments_lexer": "ipython3",
   "version": "3.7.6"
  }
 },
 "nbformat": 4,
 "nbformat_minor": 4
}
